{
  "nbformat": 4,
  "nbformat_minor": 0,
  "metadata": {
    "colab": {
      "provenance": [],
      "authorship_tag": "ABX9TyM9PqTXUFa1EMp5bi5l9Awx",
      "include_colab_link": true
    },
    "kernelspec": {
      "name": "python3",
      "display_name": "Python 3"
    },
    "language_info": {
      "name": "python"
    }
  },
  "cells": [
    {
      "cell_type": "markdown",
      "metadata": {
        "id": "view-in-github",
        "colab_type": "text"
      },
      "source": [
        "<a href=\"https://colab.research.google.com/github/msasen/pytorch/blob/main/sympy.ipynb\" target=\"_parent\"><img src=\"https://colab.research.google.com/assets/colab-badge.svg\" alt=\"Open In Colab\"/></a>"
      ]
    },
    {
      "cell_type": "code",
      "execution_count": 46,
      "metadata": {
        "id": "41KMpDiV8GNL"
      },
      "outputs": [],
      "source": [
        "# !pip install sympy\n",
        "from sympy.abc import S,X,Y,Z\n",
        "from sympy import I, init_printing, Matrix\n",
        "from sympy.algebras.quaternion import Quaternion \n",
        "init_printing()"
      ]
    },
    {
      "cell_type": "code",
      "source": [
        "from sympy import symbols \n",
        "Sp,Xp,Yp,Zp=symbols(\"Sp,Xp,Yp,Zp\")"
      ],
      "metadata": {
        "id": "E8xYpvAMCN2K"
      },
      "execution_count": 47,
      "outputs": []
    },
    {
      "cell_type": "code",
      "source": [
        "q = Quaternion(s,x,y,z)\n",
        "p = Quaternion(Sp,Xp,Yp,Zp)\n",
        "qc = q.conjugate()\n",
        "p,p,qc\n"
      ],
      "metadata": {
        "id": "Pe_yT3kxBAZ6",
        "outputId": "9476d796-475a-45f5-9148-73d30ef4ad8e",
        "colab": {
          "base_uri": "https://localhost:8080/",
          "height": 39
        }
      },
      "execution_count": 67,
      "outputs": [
        {
          "output_type": "execute_result",
          "data": {
            "text/plain": [
              "(Sp + Xp*i + Yp*j + Zp*k, Sp + Xp*i + Yp*j + Zp*k, s + (-x)*i + (-y)*j + (-z)*\n",
              "k)"
            ],
            "image/png": "[encoded data removed]",
            "text/latex": "$\\displaystyle \\left( Sp + Xp i + Yp j + Zp k, \\  Sp + Xp i + Yp j + Zp k, \\  s + - x i + - y j + - z k\\right)$"
          },
          "metadata": {},
          "execution_count": 67
        }
      ]
    },
    {
      "cell_type": "code",
      "source": [
        "ret=q.mul(p)\n",
        "ret"
      ],
      "metadata": {
        "colab": {
          "base_uri": "https://localhost:8080/",
          "height": 39
        },
        "id": "xS8ITiuy8YsH",
        "outputId": "8a144130-8b7e-46eb-fe37-1d3e737b417e"
      },
      "execution_count": 57,
      "outputs": [
        {
          "output_type": "execute_result",
          "data": {
            "text/plain": [
              "(S*Sp - X*Xp - Y*Yp - Z*Zp) + (S*Xp + Sp*X + Y*Zp - Yp*Z)*i + (S*Yp + Sp*Y - X\n",
              "*Zp + Xp*Z)*j + (S*Zp + Sp*Z + X*Yp - Xp*Y)*k"
            ],
            "image/png": "[encoded data removed]",
            "text/latex": "$\\displaystyle \\left(S Sp - X Xp - Y Yp - Z Zp\\right) + \\left(S Xp + Sp X + Y Zp - Yp Z\\right) i + \\left(S Yp + Sp Y - X Zp + Xp Z\\right) j + \\left(S Zp + Sp Z + X Yp - Xp Y\\right) k$"
          },
          "metadata": {},
          "execution_count": 57
        }
      ]
    },
    {
      "cell_type": "code",
      "source": [
        "S,X,Y,Z=symbols(\"S,X,Y,Z\")\n",
        "W = Quaternion(S,X,Y,Z)\n",
        "W,qc"
      ],
      "metadata": {
        "id": "o6J5sKoRGvEH",
        "outputId": "0a94392d-7ae2-47c3-c492-0bdabea1005f",
        "colab": {
          "base_uri": "https://localhost:8080/",
          "height": 39
        }
      },
      "execution_count": 65,
      "outputs": [
        {
          "output_type": "execute_result",
          "data": {
            "text/plain": [
              "(S + X*i + Y*j + Z*k, S + (-X)*i + (-Y)*j + (-Z)*k)"
            ],
            "image/png": "[encoded data removed]",
            "text/latex": "$\\displaystyle \\left( S + X i + Y j + Z k, \\  S + - X i + - Y j + - Z k\\right)$"
          },
          "metadata": {},
          "execution_count": 65
        }
      ]
    },
    {
      "cell_type": "code",
      "source": [
        "W.mul(qc)"
      ],
      "metadata": {
        "id": "Ngwww4F4DAbK",
        "outputId": "ad47237d-0f6d-406f-9085-4e97c3a3589e",
        "colab": {
          "base_uri": "https://localhost:8080/",
          "height": 39
        }
      },
      "execution_count": 68,
      "outputs": [
        {
          "output_type": "execute_result",
          "data": {
            "text/plain": [
              "(S*s + X*x + Y*y + Z*z) + (-S*x + X*s - Y*z + Z*y)*i + (-S*y + X*z + Y*s - Z*x\n",
              ")*j + (-S*z - X*y + Y*x + Z*s)*k"
            ],
            "image/png": "[encoded data removed]",
            "text/latex": "$\\displaystyle \\left(S s + X x + Y y + Z z\\right) + \\left(- S x + X s - Y z + Z y\\right) i + \\left(- S y + X z + Y s - Z x\\right) j + \\left(- S z - X y + Y x + Z s\\right) k$"
          },
          "metadata": {},
          "execution_count": 68
        }
      ]
    },
    {
      "cell_type": "code",
      "source": [],
      "metadata": {
        "id": "X7FHhjJIDAhW"
      },
      "execution_count": null,
      "outputs": []
    },
    {
      "cell_type": "code",
      "source": [],
      "metadata": {
        "id": "sm0BsH-sDBA5"
      },
      "execution_count": null,
      "outputs": []
    }
  ]
}