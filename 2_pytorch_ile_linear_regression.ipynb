{
  "cells": [
    {
      "cell_type": "markdown",
      "metadata": {
        "id": "view-in-github",
        "colab_type": "text"
      },
      "source": [
        "<a href=\"https://colab.research.google.com/github/msasen/pytorch/blob/main/2_pytorch_ile_linear_regression.ipynb\" target=\"_parent\"><img src=\"https://colab.research.google.com/assets/colab-badge.svg\" alt=\"Open In Colab\"/></a>"
      ]
    },
    {
      "metadata": {
        "_uuid": "8f2839f25d086af736a60e9eeb907d3b93b6e0e5",
        "_cell_guid": "b1076dfc-b9ad-4769-8c92-a6c4dae69d19",
        "trusted": true,
        "id": "jKRnnNwIbwX-"
      },
      "cell_type": "markdown",
      "source": [
        "*PyTorch - Linear Regression*\n",
        "\n",
        "<!-- <iframe width=\"560\" height=\"315\" src=\"https://www.youtube.com/embed/ECHX1s0Kk-o?controls=0\" frameborder=\"0\" allow=\"accelerometer; autoplay; encrypted-media; gyroscope; picture-in-picture\" allowfullscreen></iframe> -->\n",
        "\n",
        "\n",
        "## Makine Öğrenimi\n",
        "\n",
        "<img src=\"https://i.imgur.com/oJEQe7k.png\" width=\"500\">\n",
        "\n",
        "\n",
        "## Tensörler ve Gradyanlar"
      ]
    },
    {
      "cell_type": "markdown",
      "source": [
        "# Lineer Regresyon'u NumPy'da Kodlama\n"
      ],
      "metadata": {
        "id": "XDD7vdgH1GBP"
      }
    },
    {
      "cell_type": "code",
      "source": [
        "import numpy as np\n",
        "import pandas as pd\n",
        "from sklearn.linear_model import LinearRegression\n",
        "import matplotlib.pyplot as plt"
      ],
      "metadata": {
        "id": "8gj015Y924rY"
      },
      "execution_count": 73,
      "outputs": []
    },
    {
      "cell_type": "code",
      "source": [
        "from google.colab import files\n",
        "\n",
        "uploaded = files.upload()\n",
        "\n",
        "for fn in uploaded.keys():\n",
        "  print('User uploaded file \"{name}\" with length {length} bytes'.format(\n",
        "      name=fn, length=len(uploaded[fn])))"
      ],
      "metadata": {
        "colab": {
          "base_uri": "https://localhost:8080/",
          "height": 92
        },
        "id": "qpkNGjan3F9e",
        "outputId": "2ebcfe26-ddc5-4fce-a8fe-46a230b8a7f7"
      },
      "execution_count": 71,
      "outputs": [
        {
          "output_type": "display_data",
          "data": {
            "text/plain": [
              "<IPython.core.display.HTML object>"
            ],
            "text/html": [
              "\n",
              "     <input type=\"file\" id=\"files-7b6e9c94-0cde-42f1-91f4-b78259400303\" name=\"files[]\" multiple disabled\n",
              "        style=\"border:none\" />\n",
              "     <output id=\"result-7b6e9c94-0cde-42f1-91f4-b78259400303\">\n",
              "      Upload widget is only available when the cell has been executed in the\n",
              "      current browser session. Please rerun this cell to enable.\n",
              "      </output>\n",
              "      <script>// Copyright 2017 Google LLC\n",
              "//\n",
              "// Licensed under the Apache License, Version 2.0 (the \"License\");\n",
              "// you may not use this file except in compliance with the License.\n",
              "// You may obtain a copy of the License at\n",
              "//\n",
              "//      http://www.apache.org/licenses/LICENSE-2.0\n",
              "//\n",
              "// Unless required by applicable law or agreed to in writing, software\n",
              "// distributed under the License is distributed on an \"AS IS\" BASIS,\n",
              "// WITHOUT WARRANTIES OR CONDITIONS OF ANY KIND, either express or implied.\n",
              "// See the License for the specific language governing permissions and\n",
              "// limitations under the License.\n",
              "\n",
              "/**\n",
              " * @fileoverview Helpers for google.colab Python module.\n",
              " */\n",
              "(function(scope) {\n",
              "function span(text, styleAttributes = {}) {\n",
              "  const element = document.createElement('span');\n",
              "  element.textContent = text;\n",
              "  for (const key of Object.keys(styleAttributes)) {\n",
              "    element.style[key] = styleAttributes[key];\n",
              "  }\n",
              "  return element;\n",
              "}\n",
              "\n",
              "// Max number of bytes which will be uploaded at a time.\n",
              "const MAX_PAYLOAD_SIZE = 100 * 1024;\n",
              "\n",
              "function _uploadFiles(inputId, outputId) {\n",
              "  const steps = uploadFilesStep(inputId, outputId);\n",
              "  const outputElement = document.getElementById(outputId);\n",
              "  // Cache steps on the outputElement to make it available for the next call\n",
              "  // to uploadFilesContinue from Python.\n",
              "  outputElement.steps = steps;\n",
              "\n",
              "  return _uploadFilesContinue(outputId);\n",
              "}\n",
              "\n",
              "// This is roughly an async generator (not supported in the browser yet),\n",
              "// where there are multiple asynchronous steps and the Python side is going\n",
              "// to poll for completion of each step.\n",
              "// This uses a Promise to block the python side on completion of each step,\n",
              "// then passes the result of the previous step as the input to the next step.\n",
              "function _uploadFilesContinue(outputId) {\n",
              "  const outputElement = document.getElementById(outputId);\n",
              "  const steps = outputElement.steps;\n",
              "\n",
              "  const next = steps.next(outputElement.lastPromiseValue);\n",
              "  return Promise.resolve(next.value.promise).then((value) => {\n",
              "    // Cache the last promise value to make it available to the next\n",
              "    // step of the generator.\n",
              "    outputElement.lastPromiseValue = value;\n",
              "    return next.value.response;\n",
              "  });\n",
              "}\n",
              "\n",
              "/**\n",
              " * Generator function which is called between each async step of the upload\n",
              " * process.\n",
              " * @param {string} inputId Element ID of the input file picker element.\n",
              " * @param {string} outputId Element ID of the output display.\n",
              " * @return {!Iterable<!Object>} Iterable of next steps.\n",
              " */\n",
              "function* uploadFilesStep(inputId, outputId) {\n",
              "  const inputElement = document.getElementById(inputId);\n",
              "  inputElement.disabled = false;\n",
              "\n",
              "  const outputElement = document.getElementById(outputId);\n",
              "  outputElement.innerHTML = '';\n",
              "\n",
              "  const pickedPromise = new Promise((resolve) => {\n",
              "    inputElement.addEventListener('change', (e) => {\n",
              "      resolve(e.target.files);\n",
              "    });\n",
              "  });\n",
              "\n",
              "  const cancel = document.createElement('button');\n",
              "  inputElement.parentElement.appendChild(cancel);\n",
              "  cancel.textContent = 'Cancel upload';\n",
              "  const cancelPromise = new Promise((resolve) => {\n",
              "    cancel.onclick = () => {\n",
              "      resolve(null);\n",
              "    };\n",
              "  });\n",
              "\n",
              "  // Wait for the user to pick the files.\n",
              "  const files = yield {\n",
              "    promise: Promise.race([pickedPromise, cancelPromise]),\n",
              "    response: {\n",
              "      action: 'starting',\n",
              "    }\n",
              "  };\n",
              "\n",
              "  cancel.remove();\n",
              "\n",
              "  // Disable the input element since further picks are not allowed.\n",
              "  inputElement.disabled = true;\n",
              "\n",
              "  if (!files) {\n",
              "    return {\n",
              "      response: {\n",
              "        action: 'complete',\n",
              "      }\n",
              "    };\n",
              "  }\n",
              "\n",
              "  for (const file of files) {\n",
              "    const li = document.createElement('li');\n",
              "    li.append(span(file.name, {fontWeight: 'bold'}));\n",
              "    li.append(span(\n",
              "        `(${file.type || 'n/a'}) - ${file.size} bytes, ` +\n",
              "        `last modified: ${\n",
              "            file.lastModifiedDate ? file.lastModifiedDate.toLocaleDateString() :\n",
              "                                    'n/a'} - `));\n",
              "    const percent = span('0% done');\n",
              "    li.appendChild(percent);\n",
              "\n",
              "    outputElement.appendChild(li);\n",
              "\n",
              "    const fileDataPromise = new Promise((resolve) => {\n",
              "      const reader = new FileReader();\n",
              "      reader.onload = (e) => {\n",
              "        resolve(e.target.result);\n",
              "      };\n",
              "      reader.readAsArrayBuffer(file);\n",
              "    });\n",
              "    // Wait for the data to be ready.\n",
              "    let fileData = yield {\n",
              "      promise: fileDataPromise,\n",
              "      response: {\n",
              "        action: 'continue',\n",
              "      }\n",
              "    };\n",
              "\n",
              "    // Use a chunked sending to avoid message size limits. See b/62115660.\n",
              "    let position = 0;\n",
              "    do {\n",
              "      const length = Math.min(fileData.byteLength - position, MAX_PAYLOAD_SIZE);\n",
              "      const chunk = new Uint8Array(fileData, position, length);\n",
              "      position += length;\n",
              "\n",
              "      const base64 = btoa(String.fromCharCode.apply(null, chunk));\n",
              "      yield {\n",
              "        response: {\n",
              "          action: 'append',\n",
              "          file: file.name,\n",
              "          data: base64,\n",
              "        },\n",
              "      };\n",
              "\n",
              "      let percentDone = fileData.byteLength === 0 ?\n",
              "          100 :\n",
              "          Math.round((position / fileData.byteLength) * 100);\n",
              "      percent.textContent = `${percentDone}% done`;\n",
              "\n",
              "    } while (position < fileData.byteLength);\n",
              "  }\n",
              "\n",
              "  // All done.\n",
              "  yield {\n",
              "    response: {\n",
              "      action: 'complete',\n",
              "    }\n",
              "  };\n",
              "}\n",
              "\n",
              "scope.google = scope.google || {};\n",
              "scope.google.colab = scope.google.colab || {};\n",
              "scope.google.colab._files = {\n",
              "  _uploadFiles,\n",
              "  _uploadFilesContinue,\n",
              "};\n",
              "})(self);\n",
              "</script> "
            ]
          },
          "metadata": {}
        },
        {
          "output_type": "stream",
          "name": "stdout",
          "text": [
            "Saving linear.csv to linear.csv\n",
            "User uploaded file \"linear.csv\" with length 3156 bytes\n"
          ]
        }
      ]
    },
    {
      "cell_type": "code",
      "source": [
        "data = pd.read_csv(\"/content/linear.csv\")\n",
        "data"
      ],
      "metadata": {
        "colab": {
          "base_uri": "https://localhost:8080/",
          "height": 655
        },
        "id": "5qxQdBe23Ved",
        "outputId": "6bf3e0ef-811a-48f3-ae1d-821d6d04ce5f"
      },
      "execution_count": 77,
      "outputs": [
        {
          "output_type": "execute_result",
          "data": {
            "text/plain": [
              "    metrekare       fiyat\n",
              "0   82.583220  134.907414\n",
              "1   73.922466  134.085180\n",
              "2   34.887445   71.151500\n",
              "3   61.839983  100.237277\n",
              "4   16.775940   31.376437\n",
              "..        ...         ...\n",
              "94  85.740859  133.922297\n",
              "95  65.179788  126.827116\n",
              "96  24.333765   50.257797\n",
              "97  85.157757  144.754676\n",
              "98  80.539152  120.697309\n",
              "\n",
              "[99 rows x 2 columns]"
            ],
            "text/html": [
              "\n",
              "  <div id=\"df-02651fc4-86ba-4e0e-879e-c14acaf185f0\">\n",
              "    <div class=\"colab-df-container\">\n",
              "      <div>\n",
              "<style scoped>\n",
              "    .dataframe tbody tr th:only-of-type {\n",
              "        vertical-align: middle;\n",
              "    }\n",
              "\n",
              "    .dataframe tbody tr th {\n",
              "        vertical-align: top;\n",
              "    }\n",
              "\n",
              "    .dataframe thead th {\n",
              "        text-align: right;\n",
              "    }\n",
              "</style>\n",
              "<table border=\"1\" class=\"dataframe\">\n",
              "  <thead>\n",
              "    <tr style=\"text-align: right;\">\n",
              "      <th></th>\n",
              "      <th>metrekare</th>\n",
              "      <th>fiyat</th>\n",
              "    </tr>\n",
              "  </thead>\n",
              "  <tbody>\n",
              "    <tr>\n",
              "      <th>0</th>\n",
              "      <td>82.583220</td>\n",
              "      <td>134.907414</td>\n",
              "    </tr>\n",
              "    <tr>\n",
              "      <th>1</th>\n",
              "      <td>73.922466</td>\n",
              "      <td>134.085180</td>\n",
              "    </tr>\n",
              "    <tr>\n",
              "      <th>2</th>\n",
              "      <td>34.887445</td>\n",
              "      <td>71.151500</td>\n",
              "    </tr>\n",
              "    <tr>\n",
              "      <th>3</th>\n",
              "      <td>61.839983</td>\n",
              "      <td>100.237277</td>\n",
              "    </tr>\n",
              "    <tr>\n",
              "      <th>4</th>\n",
              "      <td>16.775940</td>\n",
              "      <td>31.376437</td>\n",
              "    </tr>\n",
              "    <tr>\n",
              "      <th>...</th>\n",
              "      <td>...</td>\n",
              "      <td>...</td>\n",
              "    </tr>\n",
              "    <tr>\n",
              "      <th>94</th>\n",
              "      <td>85.740859</td>\n",
              "      <td>133.922297</td>\n",
              "    </tr>\n",
              "    <tr>\n",
              "      <th>95</th>\n",
              "      <td>65.179788</td>\n",
              "      <td>126.827116</td>\n",
              "    </tr>\n",
              "    <tr>\n",
              "      <th>96</th>\n",
              "      <td>24.333765</td>\n",
              "      <td>50.257797</td>\n",
              "    </tr>\n",
              "    <tr>\n",
              "      <th>97</th>\n",
              "      <td>85.157757</td>\n",
              "      <td>144.754676</td>\n",
              "    </tr>\n",
              "    <tr>\n",
              "      <th>98</th>\n",
              "      <td>80.539152</td>\n",
              "      <td>120.697309</td>\n",
              "    </tr>\n",
              "  </tbody>\n",
              "</table>\n",
              "<p>99 rows × 2 columns</p>\n",
              "</div>\n",
              "      <button class=\"colab-df-convert\" onclick=\"convertToInteractive('df-02651fc4-86ba-4e0e-879e-c14acaf185f0')\"\n",
              "              title=\"Convert this dataframe to an interactive table.\"\n",
              "              style=\"display:none;\">\n",
              "        \n",
              "  <svg xmlns=\"http://www.w3.org/2000/svg\" height=\"24px\"viewBox=\"0 0 24 24\"\n",
              "       width=\"24px\">\n",
              "    <path d=\"M0 0h24v24H0V0z\" fill=\"none\"/>\n",
              "    <path d=\"M18.56 5.44l.94 2.06.94-2.06 2.06-.94-2.06-.94-.94-2.06-.94 2.06-2.06.94zm-11 1L8.5 8.5l.94-2.06 2.06-.94-2.06-.94L8.5 2.5l-.94 2.06-2.06.94zm10 10l.94 2.06.94-2.06 2.06-.94-2.06-.94-.94-2.06-.94 2.06-2.06.94z\"/><path d=\"M17.41 7.96l-1.37-1.37c-.4-.4-.92-.59-1.43-.59-.52 0-1.04.2-1.43.59L10.3 9.45l-7.72 7.72c-.78.78-.78 2.05 0 2.83L4 21.41c.39.39.9.59 1.41.59.51 0 1.02-.2 1.41-.59l7.78-7.78 2.81-2.81c.8-.78.8-2.07 0-2.86zM5.41 20L4 18.59l7.72-7.72 1.47 1.35L5.41 20z\"/>\n",
              "  </svg>\n",
              "      </button>\n",
              "      \n",
              "  <style>\n",
              "    .colab-df-container {\n",
              "      display:flex;\n",
              "      flex-wrap:wrap;\n",
              "      gap: 12px;\n",
              "    }\n",
              "\n",
              "    .colab-df-convert {\n",
              "      background-color: #E8F0FE;\n",
              "      border: none;\n",
              "      border-radius: 50%;\n",
              "      cursor: pointer;\n",
              "      display: none;\n",
              "      fill: #1967D2;\n",
              "      height: 32px;\n",
              "      padding: 0 0 0 0;\n",
              "      width: 32px;\n",
              "    }\n",
              "\n",
              "    .colab-df-convert:hover {\n",
              "      background-color: #E2EBFA;\n",
              "      box-shadow: 0px 1px 2px rgba(60, 64, 67, 0.3), 0px 1px 3px 1px rgba(60, 64, 67, 0.15);\n",
              "      fill: #174EA6;\n",
              "    }\n",
              "\n",
              "    [theme=dark] .colab-df-convert {\n",
              "      background-color: #3B4455;\n",
              "      fill: #D2E3FC;\n",
              "    }\n",
              "\n",
              "    [theme=dark] .colab-df-convert:hover {\n",
              "      background-color: #434B5C;\n",
              "      box-shadow: 0px 1px 3px 1px rgba(0, 0, 0, 0.15);\n",
              "      filter: drop-shadow(0px 1px 2px rgba(0, 0, 0, 0.3));\n",
              "      fill: #FFFFFF;\n",
              "    }\n",
              "  </style>\n",
              "\n",
              "      <script>\n",
              "        const buttonEl =\n",
              "          document.querySelector('#df-02651fc4-86ba-4e0e-879e-c14acaf185f0 button.colab-df-convert');\n",
              "        buttonEl.style.display =\n",
              "          google.colab.kernel.accessAllowed ? 'block' : 'none';\n",
              "\n",
              "        async function convertToInteractive(key) {\n",
              "          const element = document.querySelector('#df-02651fc4-86ba-4e0e-879e-c14acaf185f0');\n",
              "          const dataTable =\n",
              "            await google.colab.kernel.invokeFunction('convertToInteractive',\n",
              "                                                     [key], {});\n",
              "          if (!dataTable) return;\n",
              "\n",
              "          const docLinkHtml = 'Like what you see? Visit the ' +\n",
              "            '<a target=\"_blank\" href=https://colab.research.google.com/notebooks/data_table.ipynb>data table notebook</a>'\n",
              "            + ' to learn more about interactive tables.';\n",
              "          element.innerHTML = '';\n",
              "          dataTable['output_type'] = 'display_data';\n",
              "          await google.colab.output.renderOutput(dataTable, element);\n",
              "          const docLink = document.createElement('div');\n",
              "          docLink.innerHTML = docLinkHtml;\n",
              "          element.appendChild(docLink);\n",
              "        }\n",
              "      </script>\n",
              "    </div>\n",
              "  </div>\n",
              "  "
            ]
          },
          "metadata": {},
          "execution_count": 77
        }
      ]
    },
    {
      "cell_type": "code",
      "source": [
        "x = data[\"metrekare\"] # Metrekareleri bir axis' e çekelim, panda nın özelliği.\n",
        "y = data[\"fiyat\"] # Üstteki ile aynı.\n",
        "x = x.to_numpy()\n",
        "y = y.to_numpy()\n",
        "plt.scatter(x,y) \n"
      ],
      "metadata": {
        "colab": {
          "base_uri": "https://localhost:8080/",
          "height": 283
        },
        "id": "hZn-CUCw3r9h",
        "outputId": "a15fad95-35ca-40cd-ae24-31fba111dc5e"
      },
      "execution_count": 84,
      "outputs": [
        {
          "output_type": "execute_result",
          "data": {
            "text/plain": [
              "<matplotlib.collections.PathCollection at 0x7f3877cfc310>"
            ]
          },
          "metadata": {},
          "execution_count": 84
        },
        {
          "output_type": "display_data",
          "data": {
            "text/plain": [
              "<Figure size 432x288 with 1 Axes>"
            ],
            "image/png": "[encoded data removed]"
          },
          "metadata": {
            "needs_background": "light"
          }
        }
      ]
    },
    {
      "cell_type": "code",
      "source": [
        "\n",
        "#Doğrumuzun denklemi y = m*a+b , Biz ise en uygun m ve b yi arıyoruz. m Eğim, b kesim noktası\n",
        "m,b = np.polyfit(x,y,1)# NumPy bizim için grafiğe oturtuyor çizgimizi. Bunu matematiksel\n",
        "# İşlemlerle uzun uzun da yapabilirdik. Fakat NumPy halihazırda sahip. Çok kafa karıştırmamak \n",
        "# Adına böylesi daha iyi.\n",
        "# np.polyfit(x ekseni, y ekseni, kaçıncı dereceden polinom denklemi) ki biz birinci dereceden kullanacağız.\n",
        "a = np.arange(150)\n",
        "plt.scatter(x,y) # Scatter ile nokta çizdirimi yapıyoruz.\n",
        "plt.plot(m*a+b) #\n",
        "\n",
        "\n"
      ],
      "metadata": {
        "colab": {
          "base_uri": "https://localhost:8080/",
          "height": 283
        },
        "id": "XoKsZkl54YYM",
        "outputId": "16965ade-7f25-4015-9008-67a9b01f1004"
      },
      "execution_count": 103,
      "outputs": [
        {
          "output_type": "execute_result",
          "data": {
            "text/plain": [
              "[<matplotlib.lines.Line2D at 0x7f3877879c40>]"
            ]
          },
          "metadata": {},
          "execution_count": 103
        },
        {
          "output_type": "display_data",
          "data": {
            "text/plain": [
              "<Figure size 432x288 with 1 Axes>"
            ],
            "image/png": "[encoded data removed]"
          },
          "metadata": {
            "needs_background": "light"
          }
        }
      ]
    },
    {
      "cell_type": "code",
      "source": [
        "z=150\n",
        "tahmin = m*z+b\n",
        "print(tahmin)\n",
        "print(\"y=\",m,\"x+\",b)\n",
        "plt.scatter(z,tahmin,c=\"red\",marker=\">\")\n",
        "plt.show()\n",
        "\n"
      ],
      "metadata": {
        "colab": {
          "base_uri": "https://localhost:8080/",
          "height": 305
        },
        "id": "GLD7e9J94w7j",
        "outputId": "ac67a786-bdad-4df4-f011-4ac93abd81dc"
      },
      "execution_count": 104,
      "outputs": [
        {
          "output_type": "stream",
          "name": "stdout",
          "text": [
            "255.97776611456254\n",
            "y= 1.7065577894578212 x+ -0.005902304110628285\n"
          ]
        },
        {
          "output_type": "display_data",
          "data": {
            "text/plain": [
              "<Figure size 432x288 with 1 Axes>"
            ],
            "image/png": "[encoded data removed]"
          },
          "metadata": {
            "needs_background": "light"
          }
        }
      ]
    },
    {
      "cell_type": "markdown",
      "source": [
        "# Linear Regression'un arkasındaki matematik\n",
        "\n",
        "Bir doğru eğim ve x'e sıfır verdiğimizde y'yi kestiği yerden oluşur.\n",
        "`y=mx+b`\n",
        "sürekli m ve b yi güncelleyerek doğru değeri bulmamız gerekmektedir.\n"
      ],
      "metadata": {
        "id": "XSlQURq1tt2X"
      }
    },
    {
      "metadata": {
        "_cell_guid": "79c7e3d0-c299-4dcb-8224-4455121ee9b0",
        "_uuid": "d629ff2d2480ee46fbb7e2d37f6b5fab8052498a",
        "trusted": true,
        "id": "W8PaLJTwbwYA"
      },
      "cell_type": "code",
      "source": [
        "# Import Numpy & PyTorch\n",
        "import numpy as np\n",
        "import torch"
      ],
      "execution_count": 1,
      "outputs": []
    },
    {
      "metadata": {
        "_uuid": "34f006aa7eb4bbc683c39b7059021da900180908",
        "id": "qsg9VqUDbwYB"
      },
      "cell_type": "markdown",
      "source": [
        "Tensör bir sayı, vektör, matris veya herhangi bir n-boyutlu dizidir."
      ]
    },
    {
      "metadata": {
        "trusted": true,
        "_uuid": "e22be3f71825128f990e78959fa00d1331d344e4",
        "id": "P2iNDXV4bwYB"
      },
      "cell_type": "code",
      "source": [
        "# Create tensors.\n",
        "x = torch.tensor(3.)\n",
        "w = torch.tensor(4., requires_grad=True)\n",
        "b = torch.tensor(5., requires_grad=True)"
      ],
      "execution_count": 2,
      "outputs": []
    },
    {
      "metadata": {
        "trusted": true,
        "_uuid": "3cb90767ff9bc2c12b72548b1a430984241d4910",
        "colab": {
          "base_uri": "https://localhost:8080/"
        },
        "id": "LiCMYr2qbwYC",
        "outputId": "a5014773-3294-4192-8c04-339d0c014798"
      },
      "cell_type": "code",
      "source": [
        "# Print tensors\n",
        "print(x)\n",
        "print(w)\n",
        "print(b)"
      ],
      "execution_count": 3,
      "outputs": [
        {
          "output_type": "stream",
          "name": "stdout",
          "text": [
            "tensor(3.)\n",
            "tensor(4., requires_grad=True)\n",
            "tensor(5., requires_grad=True)\n"
          ]
        }
      ]
    },
    {
      "metadata": {
        "_uuid": "66a939ee0ec472705acd3f23654bc3ccea1cc8b4",
        "id": "S-2ivHNHbwYC"
      },
      "cell_type": "markdown",
      "source": [
        "Tensörleri olağan aritmetik işlemlerle birleştirebiliriz."
      ]
    },
    {
      "metadata": {
        "trusted": true,
        "_uuid": "0bd8fdeb252742e3449b7a2f08bcb188645dc9cf",
        "colab": {
          "base_uri": "https://localhost:8080/"
        },
        "id": "hSUKZ026bwYC",
        "outputId": "cd37254d-79c9-4217-e801-feb6e925fc4e"
      },
      "cell_type": "code",
      "source": [
        "# Arithmetic operations\n",
        "y = w * x + b\n",
        "print(y)"
      ],
      "execution_count": 4,
      "outputs": [
        {
          "output_type": "stream",
          "name": "stdout",
          "text": [
            "tensor(17., grad_fn=<AddBackward0>)\n"
          ]
        }
      ]
    },
    {
      "metadata": {
        "_uuid": "64e0f175c65c3e875c671c40e4a9bf495e30b772",
        "id": "7xVdfYnebwYD"
      },
      "cell_type": "markdown",
      "source": [
        "PyTorch'u özel kılan şey, `requires_grad` değerinin `True` olarak ayarlandığı tensörlere göre `y` türevini otomatik olarak hesaplayabilmemizdir, yani `w` ve `b`."
      ]
    },
    {
      "metadata": {
        "trusted": true,
        "_uuid": "6c98996f00294f99eb11989b5a9ecdbda31864e1",
        "id": "8PuVSIlSbwYD"
      },
      "cell_type": "code",
      "source": [
        "# y = w * x + b idi. Biz y'ye göre türev al dediğimizde req_grad değerleri\n",
        "# true olan tüm değişkenlerin y ye göre türevine\n",
        "# w.grad ile ulaşıyoruz.\n",
        "y.backward()"
      ],
      "execution_count": null,
      "outputs": []
    },
    {
      "metadata": {
        "trusted": true,
        "_uuid": "47a62ffb26a76329e511f9f063c4c26cc6a7dc21",
        "colab": {
          "base_uri": "https://localhost:8080/"
        },
        "id": "QcxPuQtdbwYE",
        "outputId": "c74e54e7-9a85-4529-c2f6-11c78921b566"
      },
      "cell_type": "code",
      "source": [
        "# y = 3w + b\n",
        "# bunun w'ya göre türevi 3\n",
        "# bunun b'ya göre türevi 1 dir.\n",
        "print('dy/dw:', w.grad)\n",
        "print('dy/db:', b.grad)"
      ],
      "execution_count": 9,
      "outputs": [
        {
          "output_type": "stream",
          "name": "stdout",
          "text": [
            "dy/dw: tensor(3.)\n",
            "dy/db: tensor(2.)\n"
          ]
        }
      ]
    },
    {
      "metadata": {
        "_uuid": "0b65b6bb4d15127b1d51f09abf616cfd29fa48b4",
        "id": "okbNUK08bwYE"
      },
      "cell_type": "markdown",
      "source": [
        "## Sorun Bildirimi"
      ]
    },
    {
      "metadata": {
        "_uuid": "c1beecda01bc332596edd193cade30006e3f6cbf",
        "id": "5J6O4YFJbwYE"
      },
      "cell_type": "markdown",
      "source": [
        "Bir bölgedeki ortalama sıcaklık, yağış ve neme (*girdi değişkenleri veya özellikler*) bakarak elma ve portakal için ürün verimlerini (*hedef değişkenler*) tahmin eden bir model oluşturacağız. İşte eğitim verileri:\n",
        "\n",
        "<img src=\"https://i.imgur.com/lBguUV9.png\" width=\"500\" />\n",
        "\n",
        "Bir **doğrusal regresyon** modelinde, her bir hedef değişken, girdi değişkenlerinin ağırlıklı bir toplamı olarak tahmin edilir ve sapma olarak bilinen bazı sabitlerle dengelenir:\n",
        "\n",
        "```\n",
        "yeild_apple = w11 * sıcaklık + w12 * yağış + w13 * nem + b1\n",
        "yeild_orange = w21 * sıcaklık + w22 * yağış + w23 * nem + b2\n",
        "```\n",
        "\n",
        "Görsel olarak bu, elma veriminin sıcaklık, yağış ve nemin doğrusal veya düzlemsel bir fonksiyonu olduğu anlamına gelir.\n",
        "\n",
        "<img src=\"https://i.imgur.com/mtkR2lB.png\" width=\"540\" >\n",
        "\n",
        "\n",
        "**Hedefimiz**: Doğru tahminler yapmak için eğitim verilerini kullanarak uygun bir *ağırlık* ve *önyargı* kümesi bulmak."
      ]
    },
    {
      "metadata": {
        "_uuid": "c24b8195c0e9c6e8e13e169d264484f1f9b3b1ae",
        "id": "I3kWmTMJbwYF"
      },
      "cell_type": "markdown",
      "source": [
        "## Eğitim Verileri\n",
        "Eğitim verileri, her biri gözlem başına bir satır ve değişken başına bir sütun olmak üzere 2 matris (girdiler ve hedefler) kullanılarak temsil edilebilir."
      ]
    },
    {
      "metadata": {
        "trusted": true,
        "_uuid": "dfda99005fc6daf3a49ae1cdd427ccac0aa446b1",
        "id": "v5ikLfWnbwYF"
      },
      "cell_type": "code",
      "source": [
        "# Input (temp, rainfall, humidity)\n",
        "inputs = np.array([[73, 67, 43], \n",
        "                   [91, 88, 64], \n",
        "                   [87, 134, 58], \n",
        "                   [102, 43, 37], \n",
        "                   [69, 96, 70]], dtype='float32')"
      ],
      "execution_count": 10,
      "outputs": []
    },
    {
      "metadata": {
        "trusted": true,
        "_uuid": "bf56faf74f7e29c9ed7523308718a9ab1acc0667",
        "id": "hFOJloFebwYF"
      },
      "cell_type": "code",
      "source": [
        "# Targets (apples, oranges)\n",
        "targets = np.array([[56, 70], \n",
        "                    [81, 101], \n",
        "                    [119, 133], \n",
        "                    [22, 37], \n",
        "                    [103, 119]], dtype='float32')"
      ],
      "execution_count": 12,
      "outputs": []
    },
    {
      "metadata": {
        "_uuid": "70d48f83ae4fce7aba7dd78fd58dddc77c598bfd",
        "id": "x7u28vdNbwYG"
      },
      "cell_type": "markdown",
      "source": [
        "Bir model oluşturmadan önce, girdileri ve hedefleri PyTorch tensörlerine dönüştürmemiz gerekir."
      ]
    },
    {
      "metadata": {
        "trusted": true,
        "_uuid": "931c1bad8788e607fa100d4338e1b1fe120e2339",
        "colab": {
          "base_uri": "https://localhost:8080/"
        },
        "id": "a1guKrG3bwYG",
        "outputId": "ebb93997-c831-4793-942c-75a8a101f696"
      },
      "cell_type": "code",
      "source": [
        "# Convert inputs and targets to tensors\n",
        "inputs = torch.from_numpy(inputs)\n",
        "targets = torch.from_numpy(targets)\n",
        "print(inputs)\n",
        "print(targets)"
      ],
      "execution_count": 13,
      "outputs": [
        {
          "output_type": "stream",
          "name": "stdout",
          "text": [
            "tensor([[ 73.,  67.,  43.],\n",
            "        [ 91.,  88.,  64.],\n",
            "        [ 87., 134.,  58.],\n",
            "        [102.,  43.,  37.],\n",
            "        [ 69.,  96.,  70.]])\n",
            "tensor([[ 56.,  70.],\n",
            "        [ 81., 101.],\n",
            "        [119., 133.],\n",
            "        [ 22.,  37.],\n",
            "        [103., 119.]])\n"
          ]
        }
      ]
    },
    {
      "metadata": {
        "_uuid": "652647cd90bd0784ec4dc53472410f7358ee18c9",
        "id": "-vsYcM8JbwYG"
      },
      "cell_type": "markdown",
      "source": [
        "## Doğrusal Regresyon Modeli (sıfırdan)\n",
        "\n",
        "Ağırlıklar* ve *biyanslar* rastgele değerlerle başlatılan matrisler olarak da gösterilebilir. w`nin ilk satırı ve `b`nin ilk elemanı, ilk hedef değişkeni, yani elmalar için verimi ve benzer şekilde portakallar için ikincisini tahmin etmek için kullanılır."
      ]
    },
    {
      "metadata": {
        "trusted": true,
        "_uuid": "6f788ae559355b3f01667be1554a5d2bdcade8db",
        "colab": {
          "base_uri": "https://localhost:8080/"
        },
        "id": "DBYMvvVQbwYG",
        "outputId": "b8610162-cbbf-4f9f-e559-862d23510fdd"
      },
      "cell_type": "code",
      "source": [
        "# Weights and biases\n",
        "w = torch.randn(2, 3, requires_grad=True)\n",
        "b = torch.randn(2, requires_grad=True)\n",
        "print(w)\n",
        "print(b)"
      ],
      "execution_count": 14,
      "outputs": [
        {
          "output_type": "stream",
          "name": "stdout",
          "text": [
            "tensor([[ 0.2693,  0.7082, -1.2524],\n",
            "        [-0.2629, -0.2759,  0.7515]], requires_grad=True)\n",
            "tensor([-1.5775,  0.8429], requires_grad=True)\n"
          ]
        }
      ]
    },
    {
      "metadata": {
        "_uuid": "3579a065997cae41f7f504916b6bc07878ac768c",
        "id": "XVPC9JalbwYG"
      },
      "cell_type": "markdown",
      "source": [
        "Model* basitçe `x` girdisi ile `w` ağırlıklarının (transpoze edilmiş) matris çarpımını gerçekleştiren ve `b` yanlılığını (her gözlem için çoğaltılmış) ekleyen bir fonksiyondur.\n",
        "\n",
        "$$\n",
        "\\hspace{2.5cm} X \\hspace{1.1cm} \\times \\hspace{1.2cm} W^T \\hspace{1.2cm}  + \\hspace{1cm} b \\hspace{2cm}\n",
        "$$\n",
        "\n",
        "$$\n",
        "\\left[ \\begin{array}{cc}\n",
        "73 & 67 & 43 \\\\\n",
        "91 & 88 & 64 \\\\\n",
        "\\vdots & \\vdots & \\vdots \\\\\n",
        "69 & 96 & 70\n",
        "\\end{array} \\right]\n",
        "%\n",
        "\\times\n",
        "%\n",
        "\\left[ \\begin{array}{cc}\n",
        "w_{11} & w_{21} \\\\\n",
        "w_{12} & w_{22} \\\\\n",
        "w_{13} & w_{23}\n",
        "\\end{array} \\right]\n",
        "%\n",
        "+\n",
        "%\n",
        "\\left[ \\begin{array}{cc}\n",
        "b_{1} & b_{2} \\\\\n",
        "b_{1} & b_{2} \\\\\n",
        "\\vdots & \\vdots \\\\\n",
        "b_{1} & b_{2} \\\\\n",
        "\\end{array} \\right]\n",
        "$$"
      ]
    },
    {
      "metadata": {
        "trusted": true,
        "_uuid": "b1119f5ae9688a5f31dba438c7f78ca382deb7e3",
        "id": "vDdaAsc5bwYH"
      },
      "cell_type": "code",
      "source": [
        "# Define the model\n",
        "def model(x):\n",
        "    return x @ w.t() + b"
      ],
      "execution_count": 15,
      "outputs": []
    },
    {
      "metadata": {
        "_uuid": "8e0a4644cb1c4ed68a3bcf67a8a156341ac7c853",
        "id": "kquSaQ0jbwYH"
      },
      "cell_type": "markdown",
      "source": [
        "Giriş verilerinin modele aktarılmasıyla elde edilen matris, hedef değişkenler için bir tahminler kümesidir."
      ]
    },
    {
      "metadata": {
        "trusted": true,
        "_uuid": "b042a3cf8f16f4c4380cccbac9d0892719c24190",
        "colab": {
          "base_uri": "https://localhost:8080/"
        },
        "id": "ceCciYfEbwYH",
        "outputId": "5c559702-c729-4255-ddfe-654171ef1522"
      },
      "cell_type": "code",
      "source": [
        "# Generate predictions\n",
        "preds = model(inputs)\n",
        "print(preds)"
      ],
      "execution_count": 16,
      "outputs": [
        {
          "output_type": "stream",
          "name": "stdout",
          "text": [
            "tensor([[ 11.6797,  -4.5199],\n",
            "        [  5.0991,   0.7354],\n",
            "        [ 44.1141, -15.4135],\n",
            "        [ 10.0081, -10.0314],\n",
            "        [ -2.6752,   8.8210]], grad_fn=<AddBackward0>)\n"
          ]
        }
      ]
    },
    {
      "metadata": {
        "trusted": true,
        "_uuid": "5551ef933de7902c8b5a38ae3d8e4795cb244f38",
        "colab": {
          "base_uri": "https://localhost:8080/"
        },
        "id": "HiVgtxNjbwYH",
        "outputId": "95a542d2-8005-46be-90e2-7694f4bc32a7"
      },
      "cell_type": "code",
      "source": [
        "# Compare with targets\n",
        "print(targets)"
      ],
      "execution_count": 17,
      "outputs": [
        {
          "output_type": "stream",
          "name": "stdout",
          "text": [
            "tensor([[ 56.,  70.],\n",
            "        [ 81., 101.],\n",
            "        [119., 133.],\n",
            "        [ 22.,  37.],\n",
            "        [103., 119.]])\n"
          ]
        }
      ]
    },
    {
      "metadata": {
        "_uuid": "2c4a9cf2b3c9152f2f832176bce9a87381e2419c",
        "id": "tf0mnblUbwYH"
      },
      "cell_type": "markdown",
      "source": [
        "Rastgele ağırlıklar ve önyargılarla başladığımız için, model hedef değişkenleri tahmin etmede çok iyi bir iş çıkarmıyor."
      ]
    },
    {
      "metadata": {
        "_uuid": "edaae7266f5d47c5e970e1438a812f10d8d35fb4",
        "id": "8Oo-lzUfbwYH"
      },
      "cell_type": "markdown",
      "source": [
        "## Kayıp Fonksiyonu\n",
        "\n",
        "Aşağıdaki yöntemi kullanarak tahminleri gerçek hedeflerle karşılaştırabiliriz: \n",
        "* İki matris (`preds` ve `targets`) arasındaki farkı hesaplayın.\n",
        "* Negatif değerleri kaldırmak için fark matrisinin tüm elemanlarının karesini alın.\n",
        "* Elde edilen matristeki elemanların ortalamasını hesaplayın.\n",
        "\n",
        "Sonuç, **ortalama karesel hata** (MSE) olarak bilinen tek bir sayıdır."
      ]
    },
    {
      "metadata": {
        "trusted": true,
        "_uuid": "dbf5bca8cbf2a3831089b454c70469e3748e9682",
        "id": "ow5_hetdbwYI"
      },
      "cell_type": "code",
      "source": [
        "# MSE loss\n",
        "def mse(t1, t2):\n",
        "    diff = t1 - t2\n",
        "    # sum toplam işareti numel ise eleman sayısı\n",
        "    return torch.sum(diff * diff) / diff.numel()"
      ],
      "execution_count": 20,
      "outputs": []
    },
    {
      "metadata": {
        "trusted": true,
        "_uuid": "90da6779aad81608c40cdca77c3c04b68a815c11",
        "colab": {
          "base_uri": "https://localhost:8080/"
        },
        "id": "tD30arpbbwYI",
        "outputId": "6528ad91-4324-49b9-c530-6e7087692a4e"
      },
      "cell_type": "code",
      "source": [
        "# Compute loss\n",
        "loss = mse(preds, targets)\n",
        "print(loss)"
      ],
      "execution_count": 21,
      "outputs": [
        {
          "output_type": "stream",
          "name": "stdout",
          "text": [
            "tensor(7662.8320, grad_fn=<DivBackward0>)\n"
          ]
        }
      ]
    },
    {
      "metadata": {
        "_uuid": "3ab3acadf389f30430b55c26c7979dcffaa974a5",
        "id": "h5hBrrypbwYI"
      },
      "cell_type": "markdown",
      "source": [
        "Ortaya çıkan sayı **kayıp** olarak adlandırılır, çünkü modelin hedef değişkenleri tahmin etmede ne kadar kötü olduğunu gösterir. Kayıp ne kadar düşükse model o kadar iyidir. "
      ]
    },
    {
      "metadata": {
        "_uuid": "c61acf9c3cff205d769fc52ed3b1b76f5ae66233",
        "id": "p0O-RP6AbwYI"
      },
      "cell_type": "markdown",
      "source": [
        "## Gradyanları Hesapla\n",
        "\n",
        "PyTorch ile, `requires_grad` değerinin `True` olarak ayarlanmış olması nedeniyle, `kayıp` değerinin ağırlıklara ve önyargılara göre gradyanını veya türevini otomatik olarak hesaplayabiliriz."
      ]
    },
    {
      "metadata": {
        "trusted": true,
        "_uuid": "ef66710c6ef1944567c4dc033e1ca316f35490ab",
        "id": "MySEPH2WbwYI"
      },
      "cell_type": "code",
      "source": [
        "# Compute gradients\n",
        "loss.backward()"
      ],
      "execution_count": 22,
      "outputs": []
    },
    {
      "metadata": {
        "_uuid": "6504cddcfb4bfb0817bf03ef460f08f3145a9091",
        "id": "QPxj2kOebwYI"
      },
      "cell_type": "markdown",
      "source": [
        "Gradyanlar ilgili tensörlerin `.grad` özelliğinde saklanır."
      ]
    },
    {
      "metadata": {
        "trusted": true,
        "_uuid": "5943d1cef604a178c95f5e8d255519d42d9f9982",
        "colab": {
          "base_uri": "https://localhost:8080/"
        },
        "id": "1zQn_78HbwYI",
        "outputId": "7de791fb-78a0-40a2-b106-29fe50496bce"
      },
      "cell_type": "code",
      "source": [
        "# Gradients for weights\n",
        "print(w)\n",
        "print(w.grad)"
      ],
      "execution_count": 23,
      "outputs": [
        {
          "output_type": "stream",
          "name": "stdout",
          "text": [
            "tensor([[ 0.2693,  0.7082, -1.2524],\n",
            "        [-0.2629, -0.2759,  0.7515]], requires_grad=True)\n",
            "tensor([[-5034.4390, -6068.7837, -3789.5552],\n",
            "        [-7975.1128, -9260.6123, -5536.3936]])\n"
          ]
        }
      ]
    },
    {
      "metadata": {
        "trusted": true,
        "_uuid": "47278e318b156c6a5812e0842dbc4164c8362562",
        "colab": {
          "base_uri": "https://localhost:8080/"
        },
        "id": "p7Rtufh0bwYI",
        "outputId": "b6669db6-a139-4a50-de20-438b91c0bf9d"
      },
      "cell_type": "code",
      "source": [
        "# Gradients for bias\n",
        "print(b)\n",
        "print(b.grad)"
      ],
      "execution_count": 24,
      "outputs": [
        {
          "output_type": "stream",
          "name": "stdout",
          "text": [
            "tensor([-1.5775,  0.8429], requires_grad=True)\n",
            "tensor([-62.5548, -96.0817])\n"
          ]
        }
      ]
    },
    {
      "metadata": {
        "_uuid": "466dc3a2cc2d4bd2c10ae4cf59cf4627b5cc9c75",
        "id": "zh1fDsfTbwYI"
      },
      "cell_type": "markdown",
      "source": [
        "Kalkülüsten elde edilen önemli bir kavrayış, gradyanın kaybın değişim oranını veya kayıp fonksiyonunun ağırlıklara ve önyargılara göre eğimini göstermesidir. \n",
        "\n",
        "* Eğer bir gradyan elemanı **pozitif** ise, \n",
        "    * Elemanın değerini biraz **arttırmak** kaybı **arttıracaktır**.\n",
        "    * Elemanın değerini biraz **azaltmak** kaybı **azaltacaktır**.\n",
        "\n",
        "<img src=\"https://i.imgur.com/2H4INoV.png\" width=\"400\" />\n",
        "\n",
        "\n",
        "\n",
        "* Bir gradyan elemanı **negatif** ise,\n",
        "    * Elemanın değerini biraz **arttırmak** kaybı **azaltacaktır**.\n",
        "    * Elemanın değerini biraz **azaltmak** kaybı **arttıracaktır**.\n",
        "    \n",
        "<img src=\"https://i.imgur.com/h7E2uAv.png\" width=\"400\" />    \n",
        "\n",
        "Artış veya azalma, eğimin değeri ile orantılıdır."
      ]
    },
    {
      "metadata": {
        "_uuid": "35ed968bfc135bd44eeb100ae401d0628fbc5c63",
        "id": "RpxuV6q6bwYJ"
      },
      "cell_type": "markdown",
      "source": [
        "Son olarak, ilerlemeden önce gradyanları sıfırlayacağız, çünkü PyTorch gradyanları biriktirir."
      ]
    },
    {
      "metadata": {
        "trusted": true,
        "_uuid": "5f02dc376c21857d4e545d98413952c5ac73039b",
        "colab": {
          "base_uri": "https://localhost:8080/"
        },
        "id": "oVx55Ob3bwYJ",
        "outputId": "34068bfd-c388-4c7c-e0f7-d6699d3046c9"
      },
      "cell_type": "code",
      "source": [
        "w.grad.zero_()\n",
        "b.grad.zero_()\n",
        "print(w.grad)\n",
        "print(b.grad)"
      ],
      "execution_count": 25,
      "outputs": [
        {
          "output_type": "stream",
          "name": "stdout",
          "text": [
            "tensor([[0., 0., 0.],\n",
            "        [0., 0., 0.]])\n",
            "tensor([0., 0.])\n"
          ]
        }
      ]
    },
    {
      "metadata": {
        "_uuid": "5501c66c9729c4954e9b798a0634a9d84487e639",
        "id": "WNxgV4yXbwYJ"
      },
      "cell_type": "markdown",
      "source": [
        "## Gradyan inişi kullanarak ağırlıkları ve önyargıları ayarlayın\n",
        "\n",
        "Aşağıdaki adımlara sahip olan gradyan iniş algoritmasını kullanarak kaybı azaltacağız ve modelimizi geliştireceğiz:\n",
        "\n",
        "1. Tahminler oluşturun\n",
        "2. Kaybı hesaplayın\n",
        "3. Ağırlıklara ve önyargılara göre gradyanları hesaplayın\n",
        "4. Gradyanla orantılı küçük bir miktar çıkararak ağırlıkları ayarlayın\n",
        "5. Gradyanları sıfıra sıfırlayın"
      ]
    },
    {
      "metadata": {
        "trusted": true,
        "_uuid": "ef0d2bd2d9c5acb60992e238439ee00c2223319f",
        "colab": {
          "base_uri": "https://localhost:8080/"
        },
        "id": "RFcoZdclbwYJ",
        "outputId": "e4b5c140-4dd4-4ed9-e5ae-76f8cb345905"
      },
      "cell_type": "code",
      "source": [
        "# Generate predictions\n",
        "preds = model(inputs)\n",
        "print(preds)"
      ],
      "execution_count": 26,
      "outputs": [
        {
          "output_type": "stream",
          "name": "stdout",
          "text": [
            "tensor([[ 11.6797,  -4.5199],\n",
            "        [  5.0991,   0.7354],\n",
            "        [ 44.1141, -15.4135],\n",
            "        [ 10.0081, -10.0314],\n",
            "        [ -2.6752,   8.8210]], grad_fn=<AddBackward0>)\n"
          ]
        }
      ]
    },
    {
      "metadata": {
        "trusted": true,
        "_uuid": "302ee8226da4ee5d0dad137c638573a79f8abded",
        "colab": {
          "base_uri": "https://localhost:8080/"
        },
        "id": "8UzcA-VgbwYJ",
        "outputId": "fe9d343a-b3b8-4f8f-e79d-35dad3adef8d"
      },
      "cell_type": "code",
      "source": [
        "# Calculate the loss\n",
        "loss = mse(preds, targets)\n",
        "print(loss)"
      ],
      "execution_count": 27,
      "outputs": [
        {
          "output_type": "stream",
          "name": "stdout",
          "text": [
            "tensor(7662.8320, grad_fn=<DivBackward0>)\n"
          ]
        }
      ]
    },
    {
      "metadata": {
        "trusted": true,
        "_uuid": "01c596aecf87e4670033ddd4ed36e26b97e2f9ab",
        "id": "PHydmxoXbwYJ"
      },
      "cell_type": "code",
      "source": [
        "# Compute gradients\n",
        "loss.backward()"
      ],
      "execution_count": 28,
      "outputs": []
    },
    {
      "metadata": {
        "trusted": true,
        "_uuid": "ec1e2bdc8f91523e556fad55ee8c01eb5431ae24",
        "id": "KLxs7Rq-bwYJ"
      },
      "cell_type": "code",
      "source": [
        "# Adjust weights & reset gradients\n",
        "with torch.no_grad():\n",
        "    w -= w.grad * 1e-5\n",
        "    b -= b.grad * 1e-5\n",
        "    w.grad.zero_()\n",
        "    b.grad.zero_()"
      ],
      "execution_count": 29,
      "outputs": []
    },
    {
      "metadata": {
        "trusted": true,
        "_uuid": "1d61b6f61f49b19099d29d1be8ec5ae4967bbd51",
        "colab": {
          "base_uri": "https://localhost:8080/"
        },
        "id": "p0ebmMbQbwYK",
        "outputId": "ec7748d0-9c35-429d-87bd-e0d355207543"
      },
      "cell_type": "code",
      "source": [
        "print(w)"
      ],
      "execution_count": 30,
      "outputs": [
        {
          "output_type": "stream",
          "name": "stdout",
          "text": [
            "tensor([[ 0.3197,  0.7689, -1.2145],\n",
            "        [-0.1832, -0.1833,  0.8069]], requires_grad=True)\n"
          ]
        }
      ]
    },
    {
      "metadata": {
        "_uuid": "6af10c29db7cb0d6e869b2c30966a34a48a011e2",
        "id": "9BpxZ4CvbwYK"
      },
      "cell_type": "markdown",
      "source": [
        "Yeni ağırlıklar ve önyargılar ile modelin daha düşük bir kayba sahip olması gerekir."
      ]
    },
    {
      "metadata": {
        "trusted": true,
        "_uuid": "c542b5fe75d82454f34cac13cdcff8b48dd1945c",
        "colab": {
          "base_uri": "https://localhost:8080/"
        },
        "id": "OlGU3fQRbwYK",
        "outputId": "efa7ed41-5ca7-401e-f384-45ff74ffe034"
      },
      "cell_type": "code",
      "source": [
        "# Calculate loss\n",
        "preds = model(inputs)\n",
        "loss = mse(preds, targets)\n",
        "print(loss)"
      ],
      "execution_count": 31,
      "outputs": [
        {
          "output_type": "stream",
          "name": "stdout",
          "text": [
            "tensor(5326.5439, grad_fn=<DivBackward0>)\n"
          ]
        }
      ]
    },
    {
      "metadata": {
        "_uuid": "5201901695f3ea13d7fdd5d985da7e0761c541d0",
        "id": "KZczsmrSbwYK"
      },
      "cell_type": "markdown",
      "source": [
        "## Çoklu epoklar için eğitin\n",
        "\n",
        "Kaybı daha da azaltmak için, gradyanları kullanarak ağırlıkları ve önyargıları ayarlama işlemini birçok kez tekrarlıyoruz. Her iterasyona bir epok denir."
      ]
    },
    {
      "metadata": {
        "trusted": true,
        "_uuid": "9f5f0ffeee666b30c5828636359f0be6addbef7c",
        "id": "l6TNvuHKbwYK"
      },
      "cell_type": "code",
      "source": [
        "# Train for 100 epochs\n",
        "for i in range(10000):\n",
        "    preds = model(inputs)\n",
        "    loss = mse(preds, targets)\n",
        "    loss.backward()\n",
        "    with torch.no_grad():\n",
        "        w -= w.grad * 1e-5\n",
        "        b -= b.grad * 1e-5\n",
        "        w.grad.zero_()\n",
        "        b.grad.zero_()"
      ],
      "execution_count": 50,
      "outputs": []
    },
    {
      "metadata": {
        "trusted": true,
        "_uuid": "c4820ca48b78f4dc242d80a9ec3ec6aca1aef671",
        "colab": {
          "base_uri": "https://localhost:8080/"
        },
        "id": "sOyxMxtkbwYK",
        "outputId": "3fe82db3-f073-49d8-94c6-f96a855e8e1b"
      },
      "cell_type": "code",
      "source": [
        "# Calculate loss\n",
        "preds = model(inputs)\n",
        "loss = mse(preds, targets)\n",
        "print(loss)"
      ],
      "execution_count": 51,
      "outputs": [
        {
          "output_type": "stream",
          "name": "stdout",
          "text": [
            "tensor(0.5209, grad_fn=<DivBackward0>)\n"
          ]
        }
      ]
    },
    {
      "metadata": {
        "trusted": true,
        "_uuid": "bbcd65fa7094cec187565e54c2107e683bea787b",
        "colab": {
          "base_uri": "https://localhost:8080/"
        },
        "id": "1K-Qgj-4bwYK",
        "outputId": "49c15c8f-de72-4aab-f6e9-bf34f7d87edd"
      },
      "cell_type": "code",
      "source": [
        "# Print predictions\n",
        "preds"
      ],
      "execution_count": 52,
      "outputs": [
        {
          "output_type": "execute_result",
          "data": {
            "text/plain": [
              "tensor([[ 56.9022,  70.4457],\n",
              "        [ 82.3717, 100.5845],\n",
              "        [118.7360, 132.9360],\n",
              "        [ 21.1147,  36.9980],\n",
              "        [101.8781, 119.1600]], grad_fn=<AddBackward0>)"
            ]
          },
          "metadata": {},
          "execution_count": 52
        }
      ]
    },
    {
      "metadata": {
        "trusted": true,
        "_uuid": "addec2c4eca8edfcae5544ea2cc717182c21d90f",
        "colab": {
          "base_uri": "https://localhost:8080/"
        },
        "id": "YF6xs04ZbwYK",
        "outputId": "e71f5efa-6cd9-4490-a64d-6893cd2f8226"
      },
      "cell_type": "code",
      "source": [
        "# Print targets\n",
        "targets"
      ],
      "execution_count": 49,
      "outputs": [
        {
          "output_type": "execute_result",
          "data": {
            "text/plain": [
              "tensor([[ 56.,  70.],\n",
              "        [ 81., 101.],\n",
              "        [119., 133.],\n",
              "        [ 22.,  37.],\n",
              "        [103., 119.]])"
            ]
          },
          "metadata": {},
          "execution_count": 49
        }
      ]
    },
    {
      "metadata": {
        "_uuid": "ecc6e79cdfb6a8ca882895ccc895b61b960b0a04",
        "id": "w8B0oMMUbwYK"
      },
      "cell_type": "markdown",
      "source": [
        "## PyTorch yerleşik bileşenlerini kullanan Doğrusal Regresyon Modeli\n",
        "\n",
        "PyTorch'un bazı yerleşik işlevlerini ve sınıflarını kullanarak aynı modeli yeniden uygulayalım."
      ]
    },
    {
      "metadata": {
        "trusted": true,
        "_uuid": "ce66cf0d09a3f38bf2f00ea40418c56d98f1f814",
        "id": "hj1vet40bwYL"
      },
      "cell_type": "code",
      "source": [
        "# Imports\n",
        "import torch.nn as nn"
      ],
      "execution_count": 53,
      "outputs": []
    },
    {
      "metadata": {
        "trusted": true,
        "_uuid": "74bb18bd01ac809079eeb8d05695206e8ba02069",
        "id": "SDEooFw1bwYL"
      },
      "cell_type": "code",
      "source": [
        "# Input (temp, rainfall, humidity)\n",
        "inputs = np.array([[73, 67, 43], [91, 88, 64], [87, 134, 58], [102, 43, 37], [69, 96, 70], [73, 67, 43], [91, 88, 64], [87, 134, 58], [102, 43, 37], [69, 96, 70], [73, 67, 43], [91, 88, 64], [87, 134, 58], [102, 43, 37], [69, 96, 70]], dtype='float32')\n",
        "# Targets (apples, oranges)\n",
        "targets = np.array([[56, 70], [81, 101], [119, 133], [22, 37], [103, 119], \n",
        "                    [56, 70], [81, 101], [119, 133], [22, 37], [103, 119], \n",
        "                    [56, 70], [81, 101], [119, 133], [22, 37], [103, 119]], dtype='float32')"
      ],
      "execution_count": 54,
      "outputs": []
    },
    {
      "metadata": {
        "trusted": true,
        "_uuid": "d94b355f55250e9c7dcff668920f02d7c5c04925",
        "id": "2_0njuU-bwYL"
      },
      "cell_type": "code",
      "source": [
        "inputs = torch.from_numpy(inputs)\n",
        "targets = torch.from_numpy(targets)"
      ],
      "execution_count": 55,
      "outputs": []
    },
    {
      "metadata": {
        "_uuid": "a0665466eb5401f40a816b323a34450b2c052c41",
        "id": "PWfNdnP1bwYL"
      },
      "cell_type": "markdown",
      "source": [
        "### Veri Kümesi ve DataLoader\n",
        "\n",
        "Tuple olarak `inputs` ve `targets` satırlarına erişim sağlayan bir `TensorDataset` oluşturacağız. Ayrıca eğitim sırasında verileri gruplara ayırmak için bir DataLoader oluşturacağız. Ayrıca karıştırma ve örnekleme gibi diğer yardımcı programları da sağlar."
      ]
    },
    {
      "metadata": {
        "trusted": true,
        "_uuid": "206f5fd0473386476b23477bf38d2c327b6376c9",
        "id": "AhhPLUMRbwYL"
      },
      "cell_type": "code",
      "source": [
        "# Import tensor dataset & data loader\n",
        "from torch.utils.data import TensorDataset, DataLoader"
      ],
      "execution_count": 56,
      "outputs": []
    },
    {
      "metadata": {
        "trusted": true,
        "_uuid": "c47a4f2f86fda3918094e01cf7ab0698bbb5acc7",
        "colab": {
          "base_uri": "https://localhost:8080/"
        },
        "id": "5a4_zFw9bwYL",
        "outputId": "d68da4b1-2761-48c2-c464-e9bb5b1844e2"
      },
      "cell_type": "code",
      "source": [
        "# Define dataset\n",
        "train_ds = TensorDataset(inputs, targets)\n",
        "train_ds[0:3]"
      ],
      "execution_count": 57,
      "outputs": [
        {
          "output_type": "execute_result",
          "data": {
            "text/plain": [
              "(tensor([[ 73.,  67.,  43.],\n",
              "         [ 91.,  88.,  64.],\n",
              "         [ 87., 134.,  58.]]), tensor([[ 56.,  70.],\n",
              "         [ 81., 101.],\n",
              "         [119., 133.]]))"
            ]
          },
          "metadata": {},
          "execution_count": 57
        }
      ]
    },
    {
      "metadata": {
        "trusted": true,
        "_uuid": "0a2f69126319d738b82ae67d5d404ecd6161bfac",
        "colab": {
          "base_uri": "https://localhost:8080/"
        },
        "id": "-KQL1wFPbwYL",
        "outputId": "e38f9620-3155-4156-c1a9-0e385027e95d"
      },
      "cell_type": "code",
      "source": [
        "# Define data loader\n",
        "batch_size = 5\n",
        "train_dl = DataLoader(train_ds, batch_size, shuffle=True)\n",
        "next(iter(train_dl))"
      ],
      "execution_count": 58,
      "outputs": [
        {
          "output_type": "execute_result",
          "data": {
            "text/plain": [
              "[tensor([[ 69.,  96.,  70.],\n",
              "         [ 91.,  88.,  64.],\n",
              "         [ 69.,  96.,  70.],\n",
              "         [ 87., 134.,  58.],\n",
              "         [102.,  43.,  37.]]), tensor([[103., 119.],\n",
              "         [ 81., 101.],\n",
              "         [103., 119.],\n",
              "         [119., 133.],\n",
              "         [ 22.,  37.]])]"
            ]
          },
          "metadata": {},
          "execution_count": 58
        }
      ]
    },
    {
      "metadata": {
        "_uuid": "276a262e1b9e3a048bcd32989013f9c501c59037",
        "id": "nfL-s9LXbwYL"
      },
      "cell_type": "markdown",
      "source": [
        "### nn.Linear\n",
        "Ağırlıkları ve önyargıları manuel olarak başlatmak yerine, modeli `nn.Linear` kullanarak tanımlayabiliriz."
      ]
    },
    {
      "metadata": {
        "trusted": true,
        "_uuid": "59da3506559a0640d80d18f77b02726a1757be2f",
        "colab": {
          "base_uri": "https://localhost:8080/"
        },
        "id": "ld-r7O2QbwYL",
        "outputId": "da4fcbfd-612a-4558-c2e2-6d3bea3d520b"
      },
      "cell_type": "code",
      "source": [
        "# Define model\n",
        "model = nn.Linear(3, 2)\n",
        "print(model.weight)\n",
        "print(model.bias)"
      ],
      "execution_count": 59,
      "outputs": [
        {
          "output_type": "stream",
          "name": "stdout",
          "text": [
            "Parameter containing:\n",
            "tensor([[-0.4646,  0.0533, -0.0238],\n",
            "        [-0.0633,  0.0053,  0.5055]], requires_grad=True)\n",
            "Parameter containing:\n",
            "tensor([-0.3988, -0.3436], requires_grad=True)\n"
          ]
        }
      ]
    },
    {
      "metadata": {
        "_uuid": "b3a4a8c499a4680f2533329712de034671dd1cdd",
        "id": "03xYJO6obwYL"
      },
      "cell_type": "markdown",
      "source": [
        "### Optimizer\n",
        "Gradyanları kullanarak ağırlıkları ve önyargıları manuel olarak değiştirmek yerine, `optim.SGD` optimizerini kullanabiliriz."
      ]
    },
    {
      "metadata": {
        "trusted": true,
        "_uuid": "1848398bd1ced8c25a7bb55612cf32a774500280",
        "id": "BsZNOjkobwYL"
      },
      "cell_type": "code",
      "source": [
        "# Define optimizer\n",
        "opt = torch.optim.SGD(model.parameters(), lr=1e-5)"
      ],
      "execution_count": 60,
      "outputs": []
    },
    {
      "metadata": {
        "_uuid": "28cbe62be55010bd11b31d819cff38da5a772b18",
        "id": "-XF45A0YbwYM"
      },
      "cell_type": "markdown",
      "source": [
        "### Kayıp Fonksiyonu\n",
        "Manuel olarak bir kayıp fonksiyonu tanımlamak yerine, yerleşik kayıp fonksiyonu `mse_loss`u kullanabiliriz."
      ]
    },
    {
      "metadata": {
        "trusted": true,
        "_uuid": "69d7f4e8e27ccd077f711da27f8bede8aa711893",
        "id": "lOi5v-ktbwYM"
      },
      "cell_type": "code",
      "source": [
        "# Import nn.functional\n",
        "import torch.nn.functional as F"
      ],
      "execution_count": 61,
      "outputs": []
    },
    {
      "metadata": {
        "trusted": true,
        "_uuid": "a02ff888ed4be720fd9ca376022d8fdcf2559683",
        "id": "AkIIXJsFbwYM"
      },
      "cell_type": "code",
      "source": [
        "# Define loss function\n",
        "loss_fn = F.mse_loss"
      ],
      "execution_count": 62,
      "outputs": []
    },
    {
      "metadata": {
        "trusted": true,
        "_uuid": "a540adf76725ea9968025f6c029fdd251bdada6c",
        "colab": {
          "base_uri": "https://localhost:8080/"
        },
        "id": "D9il2BzbbwYM",
        "outputId": "a48045cd-11e0-47ed-936e-d8c208082ac9"
      },
      "cell_type": "code",
      "source": [
        "loss = loss_fn(model(inputs), targets)\n",
        "print(loss)"
      ],
      "execution_count": 63,
      "outputs": [
        {
          "output_type": "stream",
          "name": "stdout",
          "text": [
            "tensor(9653.9473, grad_fn=<MseLossBackward0>)\n"
          ]
        }
      ]
    },
    {
      "metadata": {
        "_uuid": "e833614a69ff18c554a3d89f643ae2f11e0260f6",
        "id": "ECdG8SIDbwYM"
      },
      "cell_type": "markdown",
      "source": [
        "### Modeli eğitin\n",
        "\n",
        "Artık modeli eğitmeye hazırız. Modeli belirli sayıda epok için eğiten bir `fit` fayda fonksiyonu tanımlayabiliriz."
      ]
    },
    {
      "metadata": {
        "trusted": true,
        "_uuid": "128bc7260221f5338edf8b503c75f0c7d1cce7e8",
        "id": "OVj59wOlbwYM"
      },
      "cell_type": "code",
      "source": [
        "# Define a utility function to train the model\n",
        "def fit(num_epochs, model, loss_fn, opt):\n",
        "    for epoch in range(num_epochs):\n",
        "        for xb,yb in train_dl:\n",
        "            # Generate predictions\n",
        "            pred = model(xb)\n",
        "            loss = loss_fn(pred, yb)\n",
        "            # Perform gradient descent\n",
        "            loss.backward()\n",
        "            opt.step()\n",
        "            opt.zero_grad()\n",
        "    print('Training loss: ', loss_fn(model(inputs), targets))"
      ],
      "execution_count": 64,
      "outputs": []
    },
    {
      "metadata": {
        "trusted": true,
        "_uuid": "ae8ca4686cf6a68f6c9ca93bf3d227abe96c2201",
        "colab": {
          "base_uri": "https://localhost:8080/"
        },
        "id": "sOTEh6hHbwYM",
        "outputId": "d089ea7f-4a80-41a7-da52-c9fd1a746d46"
      },
      "cell_type": "code",
      "source": [
        "# Train the model for 100 epochs\n",
        "fit(100, model, loss_fn, opt)"
      ],
      "execution_count": 65,
      "outputs": [
        {
          "output_type": "stream",
          "name": "stdout",
          "text": [
            "Training loss:  tensor(9.6794, grad_fn=<MseLossBackward0>)\n"
          ]
        }
      ]
    },
    {
      "metadata": {
        "trusted": true,
        "_uuid": "32588a47d0478772a1f08fa55874a322630bd0b6",
        "colab": {
          "base_uri": "https://localhost:8080/"
        },
        "id": "WypQM3D6bwYM",
        "outputId": "c61b7d5a-da91-4267-c256-5e05a48dbfc3"
      },
      "cell_type": "code",
      "source": [
        "# Generate predictions\n",
        "preds = model(inputs)\n",
        "preds"
      ],
      "execution_count": 66,
      "outputs": [
        {
          "output_type": "execute_result",
          "data": {
            "text/plain": [
              "tensor([[ 57.8216,  71.1318],\n",
              "        [ 80.7950, 100.5843],\n",
              "        [120.2575, 131.5837],\n",
              "        [ 25.5625,  42.2615],\n",
              "        [ 96.8140, 115.8772],\n",
              "        [ 57.8216,  71.1318],\n",
              "        [ 80.7950, 100.5843],\n",
              "        [120.2575, 131.5837],\n",
              "        [ 25.5625,  42.2615],\n",
              "        [ 96.8140, 115.8772],\n",
              "        [ 57.8216,  71.1318],\n",
              "        [ 80.7950, 100.5843],\n",
              "        [120.2575, 131.5837],\n",
              "        [ 25.5625,  42.2615],\n",
              "        [ 96.8140, 115.8772]], grad_fn=<AddmmBackward0>)"
            ]
          },
          "metadata": {},
          "execution_count": 66
        }
      ]
    },
    {
      "metadata": {
        "trusted": true,
        "_uuid": "12d757c0f37c2e3af65cf9d4b59878cc10c65acf",
        "colab": {
          "base_uri": "https://localhost:8080/"
        },
        "id": "iqD9hz_5bwYM",
        "outputId": "49022768-5bde-4c85-c1bf-796452e890fb"
      },
      "cell_type": "code",
      "source": [
        "# Compare with targets\n",
        "targets"
      ],
      "execution_count": 67,
      "outputs": [
        {
          "output_type": "execute_result",
          "data": {
            "text/plain": [
              "tensor([[ 56.,  70.],\n",
              "        [ 81., 101.],\n",
              "        [119., 133.],\n",
              "        [ 22.,  37.],\n",
              "        [103., 119.],\n",
              "        [ 56.,  70.],\n",
              "        [ 81., 101.],\n",
              "        [119., 133.],\n",
              "        [ 22.,  37.],\n",
              "        [103., 119.],\n",
              "        [ 56.,  70.],\n",
              "        [ 81., 101.],\n",
              "        [119., 133.],\n",
              "        [ 22.,  37.],\n",
              "        [103., 119.]])"
            ]
          },
          "metadata": {},
          "execution_count": 67
        }
      ]
    },
    {
      "metadata": {
        "_uuid": "e182289ebf21d8296f11f13264c4732c100da14f",
        "id": "rE9sn51sbwYM"
      },
      "cell_type": "markdown",
      "source": [
        "# Bonus: Feedfoward Sinir Ağı\n",
        "\n",
        "![ffnn](https://upload.wikimedia.org/wikipedia/commons/thumb/0/00/Multi-Layer_Neural_Network-Vector-Blank.svg/400px-Multi-Layer_Neural_Network-Vector-Blank.svg.png)\n",
        "\n",
        "Kavramsal olarak, ileri beslemeli sinir ağlarını, aralarında doğrusal olmayan bir aktivasyon fonksiyonu uygulanarak üst üste yığılmış iki veya daha fazla doğrusal regresyon modeli olarak düşünebilirsiniz.\n",
        "\n",
        "<img src=\"https://cdn-images-1.medium.com/max/1600/1*XxxiA0jJvPrHEJHD4z893g.png\" width=\"640\">\n",
        "\n",
        "Doğrusal regresyon yerine ileri beslemeli bir sinir ağı kullanmak için PyTorch'tan `nn.Module` sınıfını genişletebiliriz."
      ]
    },
    {
      "metadata": {
        "trusted": true,
        "_uuid": "c405e5075d6c4adb26ead75c17be90eaeb43f2d5",
        "id": "RuGTeM-rbwYM"
      },
      "cell_type": "code",
      "source": [
        "class SimpleNet(nn.Module):\n",
        "    # Initialize the layers\n",
        "    def __init__(self):\n",
        "        super().__init__()\n",
        "        self.linear1 = nn.Linear(3, 3)\n",
        "        self.act1 = nn.ReLU() # Activation function\n",
        "        self.linear2 = nn.Linear(3, 2)\n",
        "    \n",
        "    # Perform the computation\n",
        "    def forward(self, x):\n",
        "        x = self.linear1(x)\n",
        "        x = self.act1(x)\n",
        "        x = self.linear2(x)\n",
        "        return x"
      ],
      "execution_count": 68,
      "outputs": []
    },
    {
      "metadata": {
        "_uuid": "2448d9832722f4f2813f8bd80b91daefd901dc2e",
        "id": "4ErwvriRbwYN"
      },
      "cell_type": "markdown",
      "source": [
        "Şimdi modeli, optimize ediciyi ve kayıp fonksiyonunu daha önce olduğu gibi tanımlayabiliriz."
      ]
    },
    {
      "metadata": {
        "trusted": true,
        "_uuid": "a51ca222c2ea037c3caccaeab98ccdbcc30800cf",
        "id": "ynneY3FybwYN"
      },
      "cell_type": "code",
      "source": [
        "model = SimpleNet()\n",
        "opt = torch.optim.SGD(model.parameters(), 1e-5)\n",
        "loss_fn = F.mse_loss"
      ],
      "execution_count": 69,
      "outputs": []
    },
    {
      "metadata": {
        "_uuid": "21000c9739ea39a173a256f87339bfc112c1a9b0",
        "id": "Hj8zKvHHbwYN"
      },
      "cell_type": "markdown",
      "source": [
        "Son olarak, daha önce doğrusal regresyon için tanımlanan aynı `fit` fonksiyonunu kullanarak modeli eğitmek için gradyan inişi uygulayabiliriz.\n",
        "\n",
        "<img src=\"https://i.imgur.com/g7Rl0r8.png\" width=\"500\">"
      ]
    },
    {
      "metadata": {
        "trusted": true,
        "_uuid": "e94de6868c76803a998c1c1934ed229c826f3b8c",
        "colab": {
          "base_uri": "https://localhost:8080/"
        },
        "id": "LWr-DfBrbwYN",
        "outputId": "02a427ef-fbd9-4c19-cfde-6ee89888c684"
      },
      "cell_type": "code",
      "source": [
        "fit(100, model, loss_fn, opt)"
      ],
      "execution_count": 70,
      "outputs": [
        {
          "output_type": "stream",
          "name": "stdout",
          "text": [
            "Training loss:  tensor(10.0424, grad_fn=<MseLossBackward0>)\n"
          ]
        }
      ]
    },
    {
      "metadata": {
        "trusted": true,
        "_uuid": "1132733442c7e7847ebd4b28d8c53c40ab6289cc",
        "id": "_9AjA7jdbwYN"
      },
      "cell_type": "code",
      "source": [],
      "execution_count": null,
      "outputs": []
    }
  ],
  "metadata": {
    "kernelspec": {
      "display_name": "Python 3",
      "language": "python",
      "name": "python3"
    },
    "language_info": {
      "name": "python",
      "version": "3.6.6",
      "mimetype": "text/x-python",
      "codemirror_mode": {
        "name": "ipython",
        "version": 3
      },
      "pygments_lexer": "ipython3",
      "nbconvert_exporter": "python",
      "file_extension": ".py"
    },
    "colab": {
      "provenance": [],
      "include_colab_link": true
    }
  },
  "nbformat": 4,
  "nbformat_minor": 0
}