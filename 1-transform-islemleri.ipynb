{
  "nbformat": 4,
  "nbformat_minor": 0,
  "metadata": {
    "colab": {
      "provenance": [],
      "mount_file_id": "1YJplv1D1WADO9UgOXXNT6Jm-D0Azfne-",
      "authorship_tag": "ABX9TyP+rcd8OeQ4ychKlOY4q2kY",
      "include_colab_link": true
    },
    "kernelspec": {
      "name": "python3",
      "display_name": "Python 3"
    },
    "language_info": {
      "name": "python"
    }
  },
  "cells": [
    {
      "cell_type": "markdown",
      "metadata": {
        "id": "view-in-github",
        "colab_type": "text"
      },
      "source": [
        "<a href=\"https://colab.research.google.com/github/msasen/pytorch/blob/main/1-transform-islemleri.ipynb\" target=\"_parent\"><img src=\"https://colab.research.google.com/assets/colab-badge.svg\" alt=\"Open In Colab\"/></a>"
      ]
    },
    {
      "cell_type": "code",
      "source": [
        "# 1-transform-islemleri.ipynb\n",
        "from google.colab import files\n",
        "uploaded = files.upload()"
      ],
      "metadata": {
        "colab": {
          "base_uri": "https://localhost:8080/",
          "height": 74
        },
        "id": "c5pIl8EF_1Zo",
        "outputId": "e58e6ddc-3213-48e9-f3eb-a5adb45ef223"
      },
      "execution_count": null,
      "outputs": [
        {
          "output_type": "display_data",
          "data": {
            "text/plain": [
              "<IPython.core.display.HTML object>"
            ],
            "text/html": [
              "\n",
              "     <input type=\"file\" id=\"files-a34082d2-a0b8-414d-a690-d839d71cf178\" name=\"files[]\" multiple disabled\n",
              "        style=\"border:none\" />\n",
              "     <output id=\"result-a34082d2-a0b8-414d-a690-d839d71cf178\">\n",
              "      Upload widget is only available when the cell has been executed in the\n",
              "      current browser session. Please rerun this cell to enable.\n",
              "      </output>\n",
              "      <script>// Copyright 2017 Google LLC\n",
              "//\n",
              "// Licensed under the Apache License, Version 2.0 (the \"License\");\n",
              "// you may not use this file except in compliance with the License.\n",
              "// You may obtain a copy of the License at\n",
              "//\n",
              "//      http://www.apache.org/licenses/LICENSE-2.0\n",
              "//\n",
              "// Unless required by applicable law or agreed to in writing, software\n",
              "// distributed under the License is distributed on an \"AS IS\" BASIS,\n",
              "// WITHOUT WARRANTIES OR CONDITIONS OF ANY KIND, either express or implied.\n",
              "// See the License for the specific language governing permissions and\n",
              "// limitations under the License.\n",
              "\n",
              "/**\n",
              " * @fileoverview Helpers for google.colab Python module.\n",
              " */\n",
              "(function(scope) {\n",
              "function span(text, styleAttributes = {}) {\n",
              "  const element = document.createElement('span');\n",
              "  element.textContent = text;\n",
              "  for (const key of Object.keys(styleAttributes)) {\n",
              "    element.style[key] = styleAttributes[key];\n",
              "  }\n",
              "  return element;\n",
              "}\n",
              "\n",
              "// Max number of bytes which will be uploaded at a time.\n",
              "const MAX_PAYLOAD_SIZE = 100 * 1024;\n",
              "\n",
              "function _uploadFiles(inputId, outputId) {\n",
              "  const steps = uploadFilesStep(inputId, outputId);\n",
              "  const outputElement = document.getElementById(outputId);\n",
              "  // Cache steps on the outputElement to make it available for the next call\n",
              "  // to uploadFilesContinue from Python.\n",
              "  outputElement.steps = steps;\n",
              "\n",
              "  return _uploadFilesContinue(outputId);\n",
              "}\n",
              "\n",
              "// This is roughly an async generator (not supported in the browser yet),\n",
              "// where there are multiple asynchronous steps and the Python side is going\n",
              "// to poll for completion of each step.\n",
              "// This uses a Promise to block the python side on completion of each step,\n",
              "// then passes the result of the previous step as the input to the next step.\n",
              "function _uploadFilesContinue(outputId) {\n",
              "  const outputElement = document.getElementById(outputId);\n",
              "  const steps = outputElement.steps;\n",
              "\n",
              "  const next = steps.next(outputElement.lastPromiseValue);\n",
              "  return Promise.resolve(next.value.promise).then((value) => {\n",
              "    // Cache the last promise value to make it available to the next\n",
              "    // step of the generator.\n",
              "    outputElement.lastPromiseValue = value;\n",
              "    return next.value.response;\n",
              "  });\n",
              "}\n",
              "\n",
              "/**\n",
              " * Generator function which is called between each async step of the upload\n",
              " * process.\n",
              " * @param {string} inputId Element ID of the input file picker element.\n",
              " * @param {string} outputId Element ID of the output display.\n",
              " * @return {!Iterable<!Object>} Iterable of next steps.\n",
              " */\n",
              "function* uploadFilesStep(inputId, outputId) {\n",
              "  const inputElement = document.getElementById(inputId);\n",
              "  inputElement.disabled = false;\n",
              "\n",
              "  const outputElement = document.getElementById(outputId);\n",
              "  outputElement.innerHTML = '';\n",
              "\n",
              "  const pickedPromise = new Promise((resolve) => {\n",
              "    inputElement.addEventListener('change', (e) => {\n",
              "      resolve(e.target.files);\n",
              "    });\n",
              "  });\n",
              "\n",
              "  const cancel = document.createElement('button');\n",
              "  inputElement.parentElement.appendChild(cancel);\n",
              "  cancel.textContent = 'Cancel upload';\n",
              "  const cancelPromise = new Promise((resolve) => {\n",
              "    cancel.onclick = () => {\n",
              "      resolve(null);\n",
              "    };\n",
              "  });\n",
              "\n",
              "  // Wait for the user to pick the files.\n",
              "  const files = yield {\n",
              "    promise: Promise.race([pickedPromise, cancelPromise]),\n",
              "    response: {\n",
              "      action: 'starting',\n",
              "    }\n",
              "  };\n",
              "\n",
              "  cancel.remove();\n",
              "\n",
              "  // Disable the input element since further picks are not allowed.\n",
              "  inputElement.disabled = true;\n",
              "\n",
              "  if (!files) {\n",
              "    return {\n",
              "      response: {\n",
              "        action: 'complete',\n",
              "      }\n",
              "    };\n",
              "  }\n",
              "\n",
              "  for (const file of files) {\n",
              "    const li = document.createElement('li');\n",
              "    li.append(span(file.name, {fontWeight: 'bold'}));\n",
              "    li.append(span(\n",
              "        `(${file.type || 'n/a'}) - ${file.size} bytes, ` +\n",
              "        `last modified: ${\n",
              "            file.lastModifiedDate ? file.lastModifiedDate.toLocaleDateString() :\n",
              "                                    'n/a'} - `));\n",
              "    const percent = span('0% done');\n",
              "    li.appendChild(percent);\n",
              "\n",
              "    outputElement.appendChild(li);\n",
              "\n",
              "    const fileDataPromise = new Promise((resolve) => {\n",
              "      const reader = new FileReader();\n",
              "      reader.onload = (e) => {\n",
              "        resolve(e.target.result);\n",
              "      };\n",
              "      reader.readAsArrayBuffer(file);\n",
              "    });\n",
              "    // Wait for the data to be ready.\n",
              "    let fileData = yield {\n",
              "      promise: fileDataPromise,\n",
              "      response: {\n",
              "        action: 'continue',\n",
              "      }\n",
              "    };\n",
              "\n",
              "    // Use a chunked sending to avoid message size limits. See b/62115660.\n",
              "    let position = 0;\n",
              "    do {\n",
              "      const length = Math.min(fileData.byteLength - position, MAX_PAYLOAD_SIZE);\n",
              "      const chunk = new Uint8Array(fileData, position, length);\n",
              "      position += length;\n",
              "\n",
              "      const base64 = btoa(String.fromCharCode.apply(null, chunk));\n",
              "      yield {\n",
              "        response: {\n",
              "          action: 'append',\n",
              "          file: file.name,\n",
              "          data: base64,\n",
              "        },\n",
              "      };\n",
              "\n",
              "      let percentDone = fileData.byteLength === 0 ?\n",
              "          100 :\n",
              "          Math.round((position / fileData.byteLength) * 100);\n",
              "      percent.textContent = `${percentDone}% done`;\n",
              "\n",
              "    } while (position < fileData.byteLength);\n",
              "  }\n",
              "\n",
              "  // All done.\n",
              "  yield {\n",
              "    response: {\n",
              "      action: 'complete',\n",
              "    }\n",
              "  };\n",
              "}\n",
              "\n",
              "scope.google = scope.google || {};\n",
              "scope.google.colab = scope.google.colab || {};\n",
              "scope.google.colab._files = {\n",
              "  _uploadFiles,\n",
              "  _uploadFilesContinue,\n",
              "};\n",
              "})(self);\n",
              "</script> "
            ]
          },
          "metadata": {}
        },
        {
          "output_type": "stream",
          "name": "stdout",
          "text": [
            "Saving Ekran Resmi 2023-02-10 14.29.05.png to Ekran Resmi 2023-02-10 14.29.05.png\n"
          ]
        }
      ]
    },
    {
      "cell_type": "code",
      "source": [
        "!pip install torch torchvision\n"
      ],
      "metadata": {
        "id": "PhrIGHDN8GNu"
      },
      "execution_count": null,
      "outputs": []
    },
    {
      "cell_type": "code",
      "source": [
        "import torch\n",
        "import torch.nn as nn\n",
        "import torch.optim as optim\n",
        "import torchvision\n",
        "import numpy as np\n",
        "import torchvision.transforms as T\n",
        "from torch.nn.functional import normalize\n",
        "from PIL import Image\n",
        "import matplotlib.pyplot as plt"
      ],
      "metadata": {
        "id": "OWDTbVFE8NXg"
      },
      "execution_count": null,
      "outputs": []
    },
    {
      "cell_type": "code",
      "source": [],
      "metadata": {
        "id": "KZSTk0bWhQcr"
      },
      "execution_count": null,
      "outputs": []
    },
    {
      "cell_type": "code",
      "source": [
        "transform = T.Compose([\n",
        "    T.Resize((32, 32)),\n",
        "    T.ToTensor(),\n",
        "    T.Normalize((0.5, 0.5, 0.5), (0.5, 0.5, 0.5))\n",
        "])\n",
        "trainset = torchvision.datasets.CIFAR10(root='./data', train=True, download=True, transform=transform)\n"
      ],
      "metadata": {
        "colab": {
          "base_uri": "https://localhost:8080/"
        },
        "id": "uhzuL6BD8Nob",
        "outputId": "170e120b-2d3b-4294-ad68-10a6662ad9b2"
      },
      "execution_count": null,
      "outputs": [
        {
          "output_type": "stream",
          "name": "stdout",
          "text": [
            "Files already downloaded and verified\n"
          ]
        }
      ]
    },
    {
      "cell_type": "markdown",
      "source": [
        "# Transforms'ları anlamak \n",
        "## 1) Resize\n",
        "  Resize() dönüşümü girdi görüntüsünü belirli bir boyuta yeniden boyutlandırır. Torchvision.transforms modülü tarafından sağlanan dönüşümlerden biridir. Resize() hem PIL hem de tensör görüntülerini kabul eder. Bir tensör görüntüsü [C, H, W] şeklinde bir torch tensörüdür; burada C kanal sayısı, H görüntü yüksekliği ve W görüntü genişliğidir.\n",
        "\n",
        "Bu dönüşüm aynı zamanda [B, C, H, W] şeklinde bir tensör olan bir tensör görüntü grubunu da kabul eder; burada B, gruptaki görüntü sayısıdır. Bir görüntü PIL yada tensör görüntüsü değilse, önce onu tensör görüntüsüne dönüştürürüz ve ardından Resize()dönüşümünü uygularız."
      ],
      "metadata": {
        "id": "iXLHZzDB9ukC"
      }
    },
    {
      "cell_type": "code",
      "source": [
        "img = Image.open('/content/resim.png')\n",
        "print(type(img))\n",
        "# Açıklama aşağıda\n",
        "print(img.mode) \n",
        "print(img)\n",
        "if img.mode == 'CMYK' or img.mode == 'RGBA':\n",
        "    img = img.convert('RGB')\n",
        "print(img.mode)\n"
      ],
      "metadata": {
        "colab": {
          "base_uri": "https://localhost:8080/"
        },
        "id": "Z8TEp2aY8dTB",
        "outputId": "914fc1c8-dea1-4790-a9a4-be9d56b9badd"
      },
      "execution_count": null,
      "outputs": [
        {
          "output_type": "stream",
          "name": "stdout",
          "text": [
            "<class 'PIL.PngImagePlugin.PngImageFile'>\n",
            "RGBA\n",
            "<PIL.PngImagePlugin.PngImageFile image mode=RGBA size=360x442 at 0x7F76C2D95400>\n",
            "RGB\n"
          ]
        }
      ]
    },
    {
      "cell_type": "code",
      "source": [
        "transform = T.Resize((32,32))\n",
        "\n",
        "resized_img = transform(img)\n",
        "plt.imshow(resized_img)"
      ],
      "metadata": {
        "colab": {
          "base_uri": "https://localhost:8080/",
          "height": 284
        },
        "id": "u1ZkC5i28dWp",
        "outputId": "ef28ec49-c40e-4a63-c016-73d92397b560"
      },
      "execution_count": null,
      "outputs": [
        {
          "output_type": "execute_result",
          "data": {
            "text/plain": [
              "<matplotlib.image.AxesImage at 0x7f76c2d6db50>"
            ]
          },
          "metadata": {},
          "execution_count": 11
        },
        {
          "output_type": "display_data",
          "data": {
            "text/plain": [
              "<Figure size 432x288 with 1 Axes>"
            ],
            "image/png": "[encoded data removed]"
          },
          "metadata": {
            "needs_background": "light"
          }
        }
      ]
    },
    {
      "cell_type": "markdown",
      "source": [
        "## 2)ToTensor()\n"
      ],
      "metadata": {
        "id": "hWA32BR4B52v"
      }
    },
    {
      "cell_type": "markdown",
      "source": [
        "ToTensor'un kullanımı son derece kolaydır. "
      ],
      "metadata": {
        "id": "pzkNDCOPDoZZ"
      }
    },
    {
      "cell_type": "code",
      "source": [
        "transform = T.ToTensor()\n",
        "tensor = transform(resized_img)\n",
        "print(tensor.shape)\n",
        "# ----------------\n",
        "transform = T.ToTensor()\n",
        "tensor = transform(img)\n",
        "print(tensor.shape)"
      ],
      "metadata": {
        "colab": {
          "base_uri": "https://localhost:8080/"
        },
        "id": "GGV4KVJDDxQ1",
        "outputId": "31f46a46-982b-43a2-dcaf-ae3adc26404c"
      },
      "execution_count": null,
      "outputs": [
        {
          "output_type": "stream",
          "name": "stdout",
          "text": [
            "torch.Size([4, 32, 32])\n",
            "torch.Size([3, 442, 360])\n"
          ]
        }
      ]
    },
    {
      "cell_type": "markdown",
      "source": [
        "Burada T.resize fonksiyonumuzun resmin şekli üzerindeki etkisi açık bir şekilde görülmekteidr.\n",
        "torch.Size([4, 32, 32])\n",
        "torch.Size([4, 442, 360])\n",
        "Buradaki matris'i yukarıdada bahsettiğimiz gibi  [C, H, W] şeklinde anlamlandırabiliriz. Buradaki Birinci kısım kanal 2. kısım Yükseklik 3. kısım genişliktir. \n",
        "\n",
        "\n",
        "* **Peki kanal neden 4**\n",
        "Muhtemelen H ve W değerlerinin neden 32 olduğunu anladınız. Peki kanal değeri neden 4?\n",
        "\n",
        "  * Bu tamamen Renk modeli ile alakalıdır. \n",
        "Bizim birkaç farklı renk modelimiz var. Bunlardan en çok kullanılanlar RGB, RGBA, CMYK dır.  \n",
        "RGBA ve RGB arasındaki fark A(Alfa) kanalı ile resimleri ve pikselleri transparan yapabilmemizdir. Bu A kanalı bizim matris boyutumuzudu [3,h,w] den\n",
        " [4,h,w] ye çıkarmıştır.\n",
        "![img](https://i.stack.imgur.com/nnQrb.png)\n",
        "![img](https://i.stack.imgur.com/YCJsx.png)\n",
        "Görüldüğü gibi daha çok çıktı almak için kullanılan CMYK görüntünün 4 kanalı varken RGB görüntünün 3 kanalı vardır. Bu durumda Renk modelimiz CMYK olması bize dijital ortamda ekstra maliyet oluşturmaktadır. Aynı RGBA resimlerin A kanalıda ekstrem bir durum olmadıkça bizim için benzer bir maliyet oluşturmaktadır.\n",
        "    image = image.convert('RGB')\n",
        "Bu durumlarda resmimlerimizi 'RGB' ye çevirirerek normalize edebiliriz."
      ],
      "metadata": {
        "id": "BZ63dLvkD8b7"
      }
    },
    {
      "cell_type": "code",
      "source": [
        "transform = T.ToTensor()\n",
        "print(resized_img.mode)\n",
        "resized_img_tensor = transform(resized_img)\n",
        "print(tensor.shape)\n",
        "img_tensor = transform(img)\n",
        "print(tensor.shape)"
      ],
      "metadata": {
        "colab": {
          "base_uri": "https://localhost:8080/"
        },
        "id": "dhb56XhgCEPF",
        "outputId": "cd53470a-4ddf-45bc-bc7b-fa199442efd5"
      },
      "execution_count": null,
      "outputs": [
        {
          "output_type": "stream",
          "name": "stdout",
          "text": [
            "RGBA\n",
            "torch.Size([3, 442, 360])\n",
            "torch.Size([3, 442, 360])\n"
          ]
        }
      ]
    },
    {
      "cell_type": "markdown",
      "source": [
        "## Normalize\n",
        "Görüntü dönüşümü, görüntü piksellerinin orijinal değerlerini bir dizi yeni değerle değiştirme işlemidir. Görüntüler üzerinde yaptığımız bir dönüşüm türü, bir görüntüyü PyTorch tensörüne dönüştürmektir. Bir görüntü PyTorch tensörüne dönüştürüldüğünde, piksel değerleri 0,0 ile 1,0 arasında ölçeklendirilir. PyTorch'ta bu dönüşüm torchvision.transforms.ToTensor() kullanılarak yapılabilir. 0, 255] piksel aralığına sahip PIL görüntüsünü [0.0, 1.0] aralığına sahip (C, H, W) şeklinde bir PyTorch FloatTensörüne dönüştürür. \n",
        "\n",
        "Görüntülerin normalleştirilmesi, derin sinir ağları ile çalışırken çok iyi bir uygulamadır. Görüntüleri normalleştirmek, görüntüleri öyle değerlere dönüştürmek anlamına gelir ki görüntünün ortalaması ve standart sapması sırasıyla 0,0 ve 1,0 olur. Bunu yapmak için önce her bir giriş kanalından kanal ortalaması çıkarılır ve ardından sonuç kanal standart sapmasına bölünür. \n",
        "\n",
        "\n",
        "```\n",
        "output[channel] = (input[channel] - mean[channel]) / std[channel]\n",
        "```\n",
        "### Görüntüleri neden normalleştirmeliyiz\n",
        "Normalleştirme, verileri bir aralık içinde tutmaya yardımcı olur ve çarpıklığı azaltarak daha hızlı ve daha iyi öğrenmeye yardımcı olur. Normalleştirme ayrıca azalan ve patlayan gradyan sorunlarının da üstesinden gelebilir.\n",
        "\n",
        "### PyTorch'ta Görüntüleri Normalleştirme\n",
        "PyTorch'ta normalleştirme torchvision.transforms.Normalize() kullanılarak yapılır. Bu, tensör görüntüsünü ortalama ve standart sapma ile normalleştirir. \n",
        "* mean: Sequence of means for each channel.\n",
        "* std: Sequence of standard deviations for each channel.\n",
        "* inplace: Bool to make this operation in-place.\n",
        "* Returns: Normalized Tensor image.\n",
        "\n"
      ],
      "metadata": {
        "id": "-CJi4U57LNwG"
      }
    },
    {
      "cell_type": "code",
      "source": [
        "img_np = np.array(img)\n",
        "# plot the pixel values\n",
        "plt.hist(img_np.ravel(), bins=50, density=True)\n",
        "plt.xlabel(\"pixel values\")\n",
        "plt.ylabel(\"relative frequency\")\n",
        "plt.title(\"distribution of pixels\")\n"
      ],
      "metadata": {
        "colab": {
          "base_uri": "https://localhost:8080/",
          "height": 313
        },
        "id": "VJ2iFpoWUYPC",
        "outputId": "8ed5c6b3-d947-4cb4-8451-cfdf7b3931ef"
      },
      "execution_count": null,
      "outputs": [
        {
          "output_type": "execute_result",
          "data": {
            "text/plain": [
              "Text(0.5, 1.0, 'distribution of pixels')"
            ]
          },
          "metadata": {},
          "execution_count": 51
        },
        {
          "output_type": "display_data",
          "data": {
            "text/plain": [
              "<Figure size 432x288 with 1 Axes>"
            ],
            "image/png": "[encoded data removed]"
          },
          "metadata": {
            "needs_background": "light"
          }
        }
      ]
    },
    {
      "cell_type": "code",
      "source": [
        "img_np = np.array(img_tensor) \n",
        "print(img_np.shape)\n",
        "print(3*442*360)\n",
        "print(img_np.ravel().shape)\n",
        "plt.hist(img_np.ravel(), bins=50, density=True)\n",
        "plt.xlabel(\"pixel values\")\n",
        "plt.ylabel(\"relative frequency\")\n",
        "plt.title(\"distribution of pixels\")\n"
      ],
      "metadata": {
        "colab": {
          "base_uri": "https://localhost:8080/",
          "height": 366
        },
        "id": "KmPqU0-YV6CE",
        "outputId": "86c64dca-1544-47d6-b4e1-8181d6de095b"
      },
      "execution_count": null,
      "outputs": [
        {
          "output_type": "stream",
          "name": "stdout",
          "text": [
            "(3, 442, 360)\n",
            "477360\n",
            "(477360,)\n"
          ]
        },
        {
          "output_type": "execute_result",
          "data": {
            "text/plain": [
              "Text(0.5, 1.0, 'distribution of pixels')"
            ]
          },
          "metadata": {},
          "execution_count": 64
        },
        {
          "output_type": "display_data",
          "data": {
            "text/plain": [
              "<Figure size 432x288 with 1 Axes>"
            ],
            "image/png": "[encoded data removed]"
          },
          "metadata": {
            "needs_background": "light"
          }
        }
      ]
    },
    {
      "cell_type": "code",
      "source": [
        "img_np = np.array(resized_img_tensor) \n",
        "# plot the pixel values\n",
        "plt.hist(img_np.ravel(), bins=50, density=True)\n",
        "plt.xlabel(\"pixel values\")\n",
        "plt.ylabel(\"relative frequency\")\n",
        "plt.title(\"distribution of pixels\")"
      ],
      "metadata": {
        "colab": {
          "base_uri": "https://localhost:8080/",
          "height": 313
        },
        "id": "OL39W0FWVp1V",
        "outputId": "c26ae1d4-f69b-4bb7-f5e0-a47e57ca91d3"
      },
      "execution_count": null,
      "outputs": [
        {
          "output_type": "execute_result",
          "data": {
            "text/plain": [
              "Text(0.5, 1.0, 'distribution of pixels')"
            ]
          },
          "metadata": {},
          "execution_count": 66
        },
        {
          "output_type": "display_data",
          "data": {
            "text/plain": [
              "<Figure size 432x288 with 1 Axes>"
            ],
            "image/png": "[encoded data removed]"
          },
          "metadata": {
            "needs_background": "light"
          }
        }
      ]
    },
    {
      "cell_type": "code",
      "source": [
        "mean, std = resized_img_tensor.mean([1,2]), resized_img_tensor.std([1,2])\n",
        " \n",
        "# print mean and std\n",
        "print(\"mean and std before normalize:\")\n",
        "print(\"Mean of the image:\", mean)\n",
        "print(\"Std of the image:\", std)"
      ],
      "metadata": {
        "colab": {
          "base_uri": "https://localhost:8080/"
        },
        "id": "e0c-2_eAaUw6",
        "outputId": "b51debb3-f015-4957-de39-3d573e7eb8d1"
      },
      "execution_count": null,
      "outputs": [
        {
          "output_type": "stream",
          "name": "stdout",
          "text": [
            "mean and std before normalize:\n",
            "Mean of the image: tensor([0.5322, 0.4858, 0.4534, 1.0000])\n",
            "Std of the image: tensor([0.2253, 0.2274, 0.2430, 0.0000])\n"
          ]
        }
      ]
    },
    {
      "cell_type": "code",
      "source": [],
      "metadata": {
        "id": "ef_GGNJtaU6U"
      },
      "execution_count": null,
      "outputs": []
    },
    {
      "cell_type": "code",
      "source": [],
      "metadata": {
        "id": "th4tpKlBaU81"
      },
      "execution_count": null,
      "outputs": []
    },
    {
      "cell_type": "code",
      "source": [],
      "metadata": {
        "id": "eRP4qE8AaU_9"
      },
      "execution_count": null,
      "outputs": []
    },
    {
      "cell_type": "code",
      "source": [
        "t = torch.tensor([[1.,2.,3.],[4.,5.,6.]])\n",
        "print(\"Tensor:\", t)"
      ],
      "metadata": {
        "colab": {
          "base_uri": "https://localhost:8080/"
        },
        "id": "DQPvYlg-DwNI",
        "outputId": "a1513d5c-61ab-4a05-e5e9-48b6b7983c90"
      },
      "execution_count": null,
      "outputs": [
        {
          "output_type": "stream",
          "name": "stdout",
          "text": [
            "Tensor: tensor([[1., 2., 3.],\n",
            "        [4., 5., 6.]])\n"
          ]
        }
      ]
    },
    {
      "cell_type": "code",
      "source": [
        "mean, std, var = torch.mean(t), torch.std(t), torch.var(t)\n",
        "t = (t-mean)/std\n",
        "mean, std, var = torch.mean(t), torch.std(t), torch.var(t)\n",
        "print(\"Mean, std and Var after normalize:\\n\", mean, std, var,t)\n",
        "t1 = normalize(t, p=1, dim = 0)\n",
        "print(t1)"
      ],
      "metadata": {
        "colab": {
          "base_uri": "https://localhost:8080/"
        },
        "id": "qXxgdd56SSaQ",
        "outputId": "77a6f868-b55f-411b-b86b-42fd2523583e"
      },
      "execution_count": null,
      "outputs": [
        {
          "output_type": "stream",
          "name": "stdout",
          "text": [
            "Mean, std and Var after normalize:\n",
            " tensor(0.) tensor(1.) tensor(1.) tensor([[-1.3363, -0.8018, -0.2673],\n",
            "        [ 0.2673,  0.8018,  1.3363]])\n",
            "tensor([[-0.8333, -0.5000, -0.1667],\n",
            "        [ 0.1667,  0.5000,  0.8333]])\n"
          ]
        }
      ]
    },
    {
      "cell_type": "code",
      "source": [
        "t1 = normalize(t, p=1.0, dim = 1)\n",
        "t2 = normalize(t, p=2.0, dim = 0)\n",
        "print(\"Normalized tensor:\", t1)\n",
        "print(\"Normalized tensor:\", t2)"
      ],
      "metadata": {
        "colab": {
          "base_uri": "https://localhost:8080/"
        },
        "id": "rno7AGApLVzL",
        "outputId": "e4bb09bb-3a38-453a-f13f-111c0613c9eb"
      },
      "execution_count": null,
      "outputs": [
        {
          "output_type": "stream",
          "name": "stdout",
          "text": [
            "Normalized tensor: tensor([[0.1667, 0.3333, 0.5000],\n",
            "        [0.2667, 0.3333, 0.4000]])\n",
            "Normalized tensor: tensor([[0.2425, 0.3714, 0.4472],\n",
            "        [0.9701, 0.9285, 0.8944]])\n"
          ]
        }
      ]
    },
    {
      "cell_type": "code",
      "execution_count": null,
      "metadata": {
        "id": "-WrVPXhN8E0H"
      },
      "outputs": [],
      "source": [
        "import torch\n",
        "import torch.nn as nn\n",
        "import torch.optim as optim\n",
        "import torchvision\n",
        "import torchvision.transforms as transforms\n",
        "\n",
        "# Sinir ağını tanımlayın\n",
        "class NeuralNetwork(nn.Module):\n",
        "    def __init__(self):\n",
        "        super(NeuralNetwork, self).__init__()\n",
        "        self.layer1 = nn.Sequential(\n",
        "            nn.Conv2d(in_channels=3, out_channels=32, kernel_size=3, padding=1),\n",
        "            nn.BatchNorm2d(32),\n",
        "            nn.ReLU(),\n",
        "            nn.MaxPool2d(kernel_size=2, stride=2))\n",
        "        self.fc = nn.Linear(32 * 8 * 8, 10)\n",
        "\n",
        "    def forward(self, x):\n",
        "        out = self.layer1(x)\n",
        "        out = out.view(out.size(0), -1)\n",
        "        out = self.fc(out)\n",
        "        return out\n",
        "\n",
        "# Verileri yükleyin ve normalize edin\n",
        "transform = transforms.Compose([\n",
        "    transforms.Resize((32, 32)),\n",
        "    transforms.ToTensor(),\n",
        "    transforms.Normalize((0.5, 0.5, 0.5), (0.5, 0.5, 0.5))\n",
        "])\n",
        "\n",
        "trainset = torchvision.datasets.CIFAR10(root='./data', train=True, download=True, transform=transform)\n",
        "trainloader = torch.utils.data.DataLoader(trainset, batch_size=100, shuffle=True, num_workers=2)\n",
        "\n",
        "testset = torchvision.datasets.CIFAR10(root='./data', train=False, download=True, transform=transform)\n",
        "testloader = torch.utils.data.DataLoader(testset, batch_size=100, shuffle=False, num_workers=2)\n",
        "\n",
        "# Sinir ağını oluşturun ve eğitin\n",
        "model = NeuralNetwork()\n",
        "criterion = nn.CrossEntropyLoss()\n",
        "optimizer = optim.SGD(model.parameters(), lr=0.001, momentum=0.9)\n",
        "\n",
        "for epoch in range(100):\n",
        "    running_loss = 0.0\n",
        "    for i, data in enumerate(trainloader, 0):\n",
        "        inputs, labels = data\n",
        "        optimizer.zero_grad()\n",
        "\n",
        "        outputs = model(inputs)\n",
        "        loss = criterion(outputs, labels)\n",
        "        loss.backward()\n",
        "        optimizer.step()\n",
        "\n",
        "        running_loss += loss.item()\n",
        "        if i % 100 == 99:\n",
        "            print('[%d, %5d] loss: %.3f' % (ep\n"
      ]
    }
  ]
}