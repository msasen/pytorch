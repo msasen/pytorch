{
  "nbformat": 4,
  "nbformat_minor": 0,
  "metadata": {
    "colab": {
      "provenance": [],
      "include_colab_link": true
    },
    "kernelspec": {
      "name": "python3",
      "display_name": "Python 3"
    },
    "language_info": {
      "name": "python"
    }
  },
  "cells": [
    {
      "cell_type": "markdown",
      "metadata": {
        "id": "view-in-github",
        "colab_type": "text"
      },
      "source": [
        "<a href=\"https://colab.research.google.com/github/msasen/pytorch/blob/main/4_kaggle_veri_indirici.ipynb\" target=\"_parent\"><img src=\"https://colab.research.google.com/assets/colab-badge.svg\" alt=\"Open In Colab\"/></a>"
      ]
    },
    {
      "cell_type": "code",
      "execution_count": 1,
      "metadata": {
        "id": "nuwRZdqadw2m"
      },
      "outputs": [],
      "source": [
        "! pip install -q kaggle"
      ]
    },
    {
      "cell_type": "code",
      "source": [
        "from google.colab import files\n",
        "\n",
        "uploaded = files.upload()\n",
        "\n",
        "for fn in uploaded.keys():\n",
        "  print('User uploaded file \"{name}\" with length {length} bytes'.format(\n",
        "      name=fn, length=len(uploaded[fn])))"
      ],
      "metadata": {
        "id": "QKw0MOlBeg0s"
      },
      "execution_count": null,
      "outputs": []
    },
    {
      "cell_type": "code",
      "source": [
        "import json \n",
        "import os\n",
        "from pathlib import Path\n",
        "\n",
        "# your api key\n",
        "api_key = {\n",
        "'username':\"musasen\" ,\n",
        "'key':\"3b8dff21a235b1fc1be35987fb4a45f\"}\n",
        "\n",
        "# uses pathlib Path\n",
        "kaggle_path = Path('/root/.kaggle')\n",
        "os.makedirs(kaggle_path, exist_ok=True)\n",
        "\n",
        "# opens file and dumps python dict to json object \n",
        "with open (kaggle_path/'kaggle.json', 'w') as handl:\n",
        "    json.dump(api_key,handl)\n",
        "\n",
        "os.chmod(kaggle_path/'kaggle.json', 600)  \n"
      ],
      "metadata": {
        "id": "LnukM79genUi"
      },
      "execution_count": 17,
      "outputs": []
    },
    {
      "cell_type": "code",
      "source": [
        "! kaggle datasets list"
      ],
      "metadata": {
        "id": "yoEjDVqIezE2",
        "outputId": "19eeaf2e-8efd-4818-adf9-9c7f1746b0ea",
        "colab": {
          "base_uri": "https://localhost:8080/"
        }
      },
      "execution_count": 18,
      "outputs": [
        {
          "output_type": "stream",
          "name": "stdout",
          "text": [
            "ref                                                             title                                               size  lastUpdated          downloadCount  voteCount  usabilityRating  \n",
            "--------------------------------------------------------------  -------------------------------------------------  -----  -------------------  -------------  ---------  ---------------  \n",
            "themrityunjaypathak/covid-cases-and-deaths-worldwide            Covid Cases and Deaths WorldWide                     8KB  2023-02-01 12:22:51           1936         55  1.0              \n",
            "ahsan81/hotel-reservations-classification-dataset               Hotel Reservations Dataset                         480KB  2023-01-04 12:50:31          11341        368  1.0              \n",
            "datascientistanna/customers-dataset                             Shop Customer Data                                  23KB  2023-02-07 18:42:21           1606         46  1.0              \n",
            "themrityunjaypathak/most-subscribed-1000-youtube-channels       Most Subscribed 1000 Youtube Channels               28KB  2023-01-21 14:42:05           3725        108  1.0              \n",
            "anas123siddiqui/laptops                                         Laptops                                             44KB  2023-02-05 18:11:41           1041         37  1.0              \n",
            "googleai/musiccaps                                              MusicCaps                                          793KB  2023-01-25 09:25:48           2611        231  0.9411765        \n",
            "michelhatab/hotel-reviews-bookingcom                            Hotel Reviews Booking.com                           83KB  2023-02-07 13:38:17            842         24  1.0              \n",
            "karkavelrajaj/amazon-sales-dataset                              Amazon Sales Dataset                                 2MB  2023-01-17 06:21:15           4190         93  1.0              \n",
            "kfoster150/avg-cost-of-undergrad-college-by-state               Avg Cost of Undergrad College by State              21KB  2023-01-17 23:44:45            963         26  1.0              \n",
            "senapatirajesh/netflix-tv-shows-and-movies                      Latest Netflix TV shows and movies                   1MB  2023-01-14 17:03:12           4251        114  0.9411765        \n",
            "marshuu/best-artists-dataset-grammys-billboard-rs               Greatest artists dataset Grammys | Billboard | RS    8KB  2023-01-25 20:03:22            845         35  1.0              \n",
            "kreeshrajani/used-car-price-dataset                             Used car price dataset                              34KB  2023-01-25 18:19:17            752         25  1.0              \n",
            "thedevastator/higher-education-predictors-of-student-retention  Predict students' dropout and academic success      87KB  2023-01-03 09:18:54           4091        100  1.0              \n",
            "salimwid/global-billionaire-wealth-and-sources-2002-2023        Global Billionaire Wealth & Sources [2002-2023]      3MB  2023-02-04 08:32:48            557         25  1.0              \n",
            "thedevastator/medical-student-mental-health                     Medical Student Mental Health                       19KB  2023-01-25 01:00:14           1560         46  1.0              \n",
            "thedevastator/netflix-top-rated-movies-and-tv-shows-2020-2022   Netflix Top Rated Movies and TV Shows                2MB  2023-01-17 03:47:40           1622         40  1.0              \n",
            "abhishek14398/salary-dataset-simple-linear-regression           Salary Dataset - Simple linear regression           457B  2023-01-10 03:55:40           2827         62  1.0              \n",
            "baraazaid/how-long-to-beat-video-games                          Video Games Playtime                                 5MB  2023-02-06 10:39:58            836         36  1.0              \n",
            "nitishsharma01/olympics-124-years-datasettill-2020              Olympics 124 years Dataset(till 2020)                5MB  2023-02-01 09:00:49           1457         36  1.0              \n",
            "thedevastator/predicting-credit-card-customer-attrition-with-m  Predicting Credit Card Customer Segmentation       379KB  2023-01-15 15:27:38           1772         54  1.0              \n"
          ]
        }
      ]
    },
    {
      "cell_type": "code",
      "source": [
        "!kaggle competitions download -c lish-moa"
      ],
      "metadata": {
        "colab": {
          "base_uri": "https://localhost:8080/"
        },
        "id": "kSoRF0DlfjB4",
        "outputId": "8b25f901-cbb5-4327-f26f-c088b809f2ba"
      },
      "execution_count": 19,
      "outputs": [
        {
          "output_type": "stream",
          "name": "stdout",
          "text": [
            "403 - Forbidden\n"
          ]
        }
      ]
    },
    {
      "cell_type": "code",
      "source": [
        "!mkdir dataset\n",
        "!ls"
      ],
      "metadata": {
        "colab": {
          "base_uri": "https://localhost:8080/"
        },
        "id": "DXpg-dFPgGOv",
        "outputId": "bc5d5052-8234-4f5e-8d1d-a9ad17f6e169"
      },
      "execution_count": null,
      "outputs": [
        {
          "output_type": "stream",
          "name": "stdout",
          "text": [
            "mkdir: cannot create directory ‘dataset’: File exists\n",
            "dataset\t\t\t\t\tsample_data\n",
            "GCP-Coupons-Instructions.rtf\t\tsample_submission.csv\n",
            "kaggle\t\t\t\t\ttest.csv\n",
            "kaggle.json\t\t\t\ttrain.csv\n",
            "new-york-city-taxi-fare-prediction.zip\n"
          ]
        }
      ]
    },
    {
      "cell_type": "code",
      "source": [
        "!unzip /content/new-york-city-taxi-fare-prediction.zip -d /content/dataset"
      ],
      "metadata": {
        "colab": {
          "base_uri": "https://localhost:8080/"
        },
        "id": "h510fErrfqoU",
        "outputId": "57668d96-f609-4483-d5fc-37b2db33fa1c"
      },
      "execution_count": null,
      "outputs": [
        {
          "output_type": "stream",
          "name": "stdout",
          "text": [
            "Archive:  /content/new-york-city-taxi-fare-prediction.zip\n",
            "  inflating: /content/dataset/GCP-Coupons-Instructions.rtf  \n",
            "  inflating: /content/dataset/sample_submission.csv  \n",
            "  inflating: /content/dataset/test.csv  \n",
            "  inflating: /content/dataset/train.csv  \n"
          ]
        }
      ]
    }
  ]
}